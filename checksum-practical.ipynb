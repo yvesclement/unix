{
 "cells": [
  {
   "cell_type": "markdown",
   "metadata": {},
   "source": [
    "# Sommes de contrôle - exercices\n",
    "\n",
    "L'objectif de ce TP est de découvrir le fonctionnement et l’utilité des commandes `md5sum` et `sha256sum`.\n",
    "\n",
    "**Remarque :** avec un système d'exploitation Mac OS X, \n",
    "\n",
    "- l'équivalent de la commande `md5sum` est `md5`\n",
    "- et l'équivalent de la commande `sha256sum` est `shasum -a 256` .\n",
    "\n",
    "Supprimez tout d'abord les éventuels fichiers résiduels :"
   ]
  },
  {
   "cell_type": "code",
   "execution_count": null,
   "metadata": {},
   "outputs": [],
   "source": [
    "rm -f exemple1.txt exemple2.txt exemple3.txt mng2015_children_malaria_data.csv mng2015_children_malaria_codebook.txt"
   ]
  },
  {
   "cell_type": "markdown",
   "metadata": {},
   "source": [
    "## MD5\n",
    "\n",
    "1. Créez le fichier `exemple1.txt` et ajoutez à l'intérieur quelques lignes.\n",
    "\n",
    "    Vous pouvez pour cela employer une des deux méthodes suivantes :\n",
    "    - Directement depuis l'interface Jupyter Lab (depuis le Launcher, cliquez sur « Text File »).\n",
    "    - Avec l'éditeur `nano` depuis un terminal (depuis le Launcher, cliquez sur « Terminal »).\n",
    "\n",
    "\n",
    "2. Faites une copie de ce fichier dans `exemple2.txt`."
   ]
  },
  {
   "cell_type": "code",
   "execution_count": null,
   "metadata": {
    "tags": []
   },
   "outputs": [],
   "source": []
  },
  {
   "cell_type": "markdown",
   "metadata": {},
   "source": [
    "3. Calculez les empreintes MD5 des deux fichiers avec la commande\n",
    "    ```\n",
    "    md5sum exemple1.txt exemple2.txt\n",
    "    ```"
   ]
  },
  {
   "cell_type": "code",
   "execution_count": null,
   "metadata": {},
   "outputs": [],
   "source": []
  },
  {
   "cell_type": "markdown",
   "metadata": {},
   "source": [
    "4. Que pouvez-vous dire de ces empreintes et des fichiers correspondants ?"
   ]
  },
  {
   "cell_type": "markdown",
   "metadata": {},
   "source": []
  },
  {
   "cell_type": "markdown",
   "metadata": {},
   "source": [
    "5. Ouvrez le fichier `exemple2.txt` et modifiez un seul caractère.\n",
    "\n",
    "    Vous pouvez pour cela employer une des deux méthodes suivantes :\n",
    "    - Directement depuis l'interface Jupyter Lab (depuis le Launcher, cliquez sur « Text File »).\n",
    "    - Avec l'éditeur `nano` depuis un terminal (depuis le Launcher, cliquez sur « Terminal »).\n",
    "\n",
    "\n",
    "6. Calculez à nouveau les empreintes MD5 des deux fichiers."
   ]
  },
  {
   "cell_type": "code",
   "execution_count": null,
   "metadata": {},
   "outputs": [],
   "source": []
  },
  {
   "cell_type": "markdown",
   "metadata": {},
   "source": [
    "7. Que pouvez-vous dire de ces empreintes ? Existe-t-il une similarité entre les deux empreintes ?"
   ]
  },
  {
   "cell_type": "code",
   "execution_count": null,
   "metadata": {},
   "outputs": [],
   "source": []
  },
  {
   "cell_type": "markdown",
   "metadata": {},
   "source": [
    "8. Supprimez le fichier `exemple2.txt`."
   ]
  },
  {
   "cell_type": "code",
   "execution_count": null,
   "metadata": {},
   "outputs": [],
   "source": []
  },
  {
   "cell_type": "markdown",
   "metadata": {},
   "source": [
    "9. Téléchargez les fichiers `mng2015_children_malaria_data.csv` et `mng2015_children_malaria_codebook.txt` que vous trouverez en bas de la page <https://zenodo.org/record/154453/>. Utilisez pour cela les commandes suivantes :\n",
    "    ```\n",
    "    wget https://zenodo.org/record/154453/files/mng2015_children_malaria_data.csv\n",
    "    wget https://zenodo.org/record/154453/files/mng2015_children_malaria_codebook.txt\n",
    "    ```\n",
    "    <br />\n",
    "    En utilisant les empreintes MD5 disponibles sur la page <https://zenodo.org/record/154453/>, vérifiez l'intégrité de ces fichiers."
   ]
  },
  {
   "cell_type": "code",
   "execution_count": null,
   "metadata": {},
   "outputs": [],
   "source": []
  },
  {
   "cell_type": "markdown",
   "metadata": {},
   "source": [
    "## SHA256\n",
    "\n",
    "1. Faites une nouvelle copie de `exemple1.txt` dans `exemple3.txt`."
   ]
  },
  {
   "cell_type": "code",
   "execution_count": null,
   "metadata": {},
   "outputs": [],
   "source": []
  },
  {
   "cell_type": "markdown",
   "metadata": {},
   "source": [
    "2. Calculez les empreintes SHA256 des deux fichiers avec la commande\n",
    "    ```\n",
    "    sha256sum exemple1.txt exemple3.txt\n",
    "    ```"
   ]
  },
  {
   "cell_type": "code",
   "execution_count": null,
   "metadata": {},
   "outputs": [],
   "source": []
  },
  {
   "cell_type": "markdown",
   "metadata": {},
   "source": [
    "3. Que pouvez-vous dire de ces empreintes ? Comparez-les aux empreintes MD5."
   ]
  },
  {
   "cell_type": "code",
   "execution_count": null,
   "metadata": {},
   "outputs": [],
   "source": []
  },
  {
   "cell_type": "markdown",
   "metadata": {},
   "source": [
    "4. Ouvrez le fichier `exemple3.txt` et modifiez un seul caractère.\n",
    "\n",
    "    Vous pouvez pour cela employer une des deux méthodes suivantes :\n",
    "    - Directement depuis l'interface Jupyter Lab (depuis le Launcher, cliquez sur « Text File »).\n",
    "    - Avec l'éditeur `nano` depuis un terminal (depuis le Launcher, cliquez sur « Terminal »).\n",
    "\n",
    "\n",
    "5. Calculez à nouveau les empreintes SHA256 des deux fichiers."
   ]
  },
  {
   "cell_type": "code",
   "execution_count": null,
   "metadata": {},
   "outputs": [],
   "source": []
  },
  {
   "cell_type": "markdown",
   "metadata": {},
   "source": [
    "6. Que pouvez-vous dire de ces empreintes ? Y a-t-il une similarité entre les deux empreintes ?"
   ]
  },
  {
   "cell_type": "code",
   "execution_count": null,
   "metadata": {},
   "outputs": [],
   "source": []
  }
 ],
 "metadata": {
  "interpreter": {
   "hash": "54eccf3ab823fa2bd9eb293fbe75ceb6db1df04daf75e4d2b278314af0c069da"
  },
  "kernelspec": {
   "display_name": "Bash",
   "language": "bash",
   "name": "bash"
  },
  "language_info": {
   "codemirror_mode": "shell",
   "file_extension": ".sh",
   "mimetype": "text/x-sh",
   "name": "bash"
  }
 },
 "nbformat": 4,
 "nbformat_minor": 4
}
