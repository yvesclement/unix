{
 "cells": [
  {
   "cell_type": "markdown",
   "id": "072b2b01-ee39-495c-8e0a-6c3ad7f7dc4f",
   "metadata": {
    "tags": []
   },
   "source": [
    "# M1 MEG - UE 5 A2B - TP5\n",
    "## Pipeline d'analyse RNA-seq - Partie 1\n",
    "\n",
    "L'objectif de ce TP est de faire tourner les premières étapes du pipeline d'analyse RNA-seq : \n",
    "- Comprendre les différentes étapes\n",
    "- Comprendre le lien entre les étapes\n",
    "- Analyser les résultats\n",
    "\n",
    "**Quelques rappels** : \n",
    "- Un ordinateur / serveur de calcul est complètement stupide : il fera *exactement* ce que vous avez demandé de faire (ni plus ni moins).\n",
    "- 99% des problèmes en informatique sont situés entre l'écran et la chaise.\n",
    "\n",
    "**Mode de fonctionnement:**\n",
    "\n",
    "- Les commandes que vous aurez à executer vous sont données dans le notebook. \n",
    "- À vous de les exécuter dans l'ordre\n",
    "- Inutile de tout faire tourner d'un seul coup, un objectif essentiel est de *comprendre* ce que font les programmes, ce qu'ils retournent et *analyser* les résultats.\n",
    "\n",
    "**Emplacements des Données :**\n",
    "- Données Brutes : `/srv/data/meg-m1-a2b/blumenthal-2014/chr7/1-fastq/`\n",
    "- Annotation du Génome : `/srv/data/Genomes/Mmu/GRCm39/extracted/genome_annotation-M37.gtf`\n",
    "- Index du Génome : `/srv/data/Genomes/Mmu/GRCm39/indexes_upto49bases/`\n",
    "\n",
    "**Configuration de l'environnement**\n",
    "Les outils requis sont pré-installés dans l'environnement meg-m1-ue5-unix2 dans lequel vous êtes :\n",
    "- FastQC (v0.12.1) - Contrôle qualité\n",
    "- MultiQC (v1.13) - Rapports agrégés\n",
    "- fastp (v0.23.1) - Prétraitement des reads\n",
    "- STAR (v2.7.11a) - Alignement des reads\n",
    "- samtools (v1.18) - Manipulation des fichiers BAM\n"
   ]
  },
  {
   "cell_type": "markdown",
   "id": "70a8e542",
   "metadata": {},
   "source": [
    "# 1. Prépration\n",
    "\n",
    "## Création des répertoires de sortie\n",
    "\n",
    "Comme indiqué ci-dessus, un ordinateur est complètement stupide et ne fera que ce que vous lui demandez de faire. \n",
    "Par exemple, si vous demandez à un programme d'enregistrer des fichiers de sortie dans un dossier *qui n'existe pas*, il va y avoir un soucis.\n",
    "\n",
    "Il est donc important de *préparer* les dossiers de sortie et de les créer.\n",
    "\n",
    "Nous allons créer un dossier principal où tous les résultats seront enregistrés, puis des sous-dossiers pour chaque étape / outil.\n",
    "\n",
    "**Conseil** : les meilleurs amis d'un.e bioinformaticien.ne reste le papier et le stylo : ayez toujours une feuille / un cahier à côté de vous où vous allez *plannifier* vos analyses : quelles étapes, quels outils, etc..."
   ]
  },
  {
   "cell_type": "code",
   "execution_count": 1,
   "id": "c9b06970",
   "metadata": {
    "tags": []
   },
   "outputs": [],
   "source": [
    "mkdir -p Analysis_chr7/1-beforeTrimming/fastqc\n",
    "mkdir -p Analysis_chr7/1-beforeTrimming/multiqc\n",
    "\n",
    "mkdir -p Analysis_chr7/2-afterTrimming/fastp\n",
    "mkdir -p Analysis_chr7/2-afterTrimming/fastqc\n",
    "mkdir -p Analysis_chr7/2-afterTrimming/multiqc\n",
    "\n",
    "mkdir -p Analysis_chr7/3-mapping/bam\n",
    "mkdir -p Analysis_chr7/3-mapping/multiqc"
   ]
  },
  {
   "cell_type": "markdown",
   "id": "2aab7f37",
   "metadata": {},
   "source": [
    "On a créé un dossier principal (`Analysis_chr7`), trois sous-dossiers (`1-beforeTrimming`, `2-afterTrimming`et `3-mapping`), ainsi que des dossier pour chaque outil.\n",
    "\n",
    "**Questions** : \n",
    "- À quoi sert l'option `-p` du programme `mkdir` ?\n",
    "- Quel peut être l'intérêt de numéroter les dossiers ?"
   ]
  },
  {
   "cell_type": "markdown",
   "id": "8b284ef6-f793-4df1-8013-27c432f2e611",
   "metadata": {},
   "source": [
    "## Vérification des fichiers de données initiaux\n",
    "\n",
    "Grâce aux sommes de contrôle, on peut vérifier l'intégrité de nos données de base."
   ]
  },
  {
   "cell_type": "code",
   "execution_count": null,
   "id": "180809e8-cd56-4d23-82f7-d50ee692a768",
   "metadata": {
    "tags": []
   },
   "outputs": [],
   "source": [
    "ls -lh /srv/data/meg-m1-a2b/blumenthal-2014/chr7/1-fastq/"
   ]
  },
  {
   "cell_type": "code",
   "execution_count": null,
   "id": "23404525-86d6-4b34-8c90-b2acd0313100",
   "metadata": {
    "tags": []
   },
   "outputs": [],
   "source": [
    "md5sum /srv/data/meg-m1-a2b/blumenthal-2014/chr7/1-fastq/SRX1589831_chr7_R1.fastq.gz"
   ]
  },
  {
   "cell_type": "code",
   "execution_count": null,
   "id": "fb055a50-228b-4da7-bef1-c2786338df66",
   "metadata": {
    "tags": []
   },
   "outputs": [],
   "source": [
    "head /srv/data/meg-m1-a2b/blumenthal-2014/chr7/1-fastq/md5sum.txt"
   ]
  },
  {
   "cell_type": "code",
   "execution_count": null,
   "id": "d0879f89-5a55-462a-9439-3ccd1e951982",
   "metadata": {
    "tags": []
   },
   "outputs": [],
   "source": [
    "md5sum /srv/data/meg-m1-a2b/blumenthal-2014/chr7/1-fastq/*.fastq.gz"
   ]
  },
  {
   "cell_type": "markdown",
   "id": "16e58f1f",
   "metadata": {},
   "source": [
    "# 2. Contrôle qualité\n",
    "\n",
    "## FastQC\n",
    "\n",
    "La première étape d'un pipeline (RNA-seq ou autre) est de vérifier la qualité des données. L'outil `fastqc` permet de calculer un certain nombre de statistiques sur des fichiers fastq.\n",
    "\n",
    "Commencez par jeter un œil aux différentes options du programme (en général, taper le nom du programme avec l'option `-h` ou `--help` permet de voir la liste des options)"
   ]
  },
  {
   "cell_type": "code",
   "execution_count": null,
   "id": "2fbfa846",
   "metadata": {
    "tags": [],
    "vscode": {
     "languageId": "plaintext"
    }
   },
   "outputs": [],
   "source": [
    "fastqc -h"
   ]
  },
  {
   "cell_type": "markdown",
   "id": "f01069b9",
   "metadata": {},
   "source": [
    "On décide de faire tourner l'outils sur *tous* les fichiers fastq contenus dans le dossier contenant les données."
   ]
  },
  {
   "cell_type": "code",
   "execution_count": null,
   "id": "ab141068-647d-4caf-9189-c172faf15138",
   "metadata": {
    "tags": []
   },
   "outputs": [],
   "source": [
    "fastqc -t 5 -o ./Analysis_chr7/1-beforeTrimming/fastqc/ \\\n",
    "    /srv/data/meg-m1-a2b/blumenthal-2014/chr7/1-fastq/*.fastq.gz"
   ]
  },
  {
   "cell_type": "markdown",
   "id": "2740a0f2",
   "metadata": {},
   "source": [
    "**Question** :\n",
    "- Combien de fichiers de sortie *par fichier fastq* obtenez-vous ?\n",
    "- Ouvrez un fichier HTML et analyser les résultats."
   ]
  },
  {
   "cell_type": "markdown",
   "id": "174194c3",
   "metadata": {},
   "source": [
    "## MultiQC\n",
    "\n",
    "L'outil `fastqc` produit une sortie HTML par fichier fastq. Analyser *un par un* chacun des fichiers peut être trèèèèès long, surtout quand on a beaucoup d'échantillons RNA-seq.\n",
    "L'outil `multiqc` est un outil très utile qui permet d'agréger des sorties de beaucoup d'outils différents et générer un fichier HTML.\n",
    "\n",
    "Commencez par jeter un coup d'œil aux différentes options du programme."
   ]
  },
  {
   "cell_type": "code",
   "execution_count": null,
   "id": "773b4f4b-b71b-41e3-91e2-54f87c3be920",
   "metadata": {
    "tags": []
   },
   "outputs": [],
   "source": [
    "multiqc -h"
   ]
  },
  {
   "cell_type": "markdown",
   "id": "ba6bb0d5",
   "metadata": {},
   "source": [
    "Parmi les options intéressantes, l'option `-i`permet de donner un nom au fichier de sortie. C'est très pratique pour garder une tracer de ce qu'on a fait (ça évite les noms de fichiers type `toto1.html`, `toto2.html`, etc...)"
   ]
  },
  {
   "cell_type": "code",
   "execution_count": null,
   "id": "c1494045-0ae9-414f-bdf0-25bc57896440",
   "metadata": {
    "tags": []
   },
   "outputs": [],
   "source": [
    "multiqc -f -o ./Analysis_chr7/1-beforeTrimming/multiqc/ \\\n",
    "    -i \"GSE76872 - FastQC before trimming\" \\\n",
    "    --interactive \\\n",
    "    ./Analysis_chr7/1-beforeTrimming/fastqc/"
   ]
  },
  {
   "cell_type": "markdown",
   "id": "d15ed003",
   "metadata": {},
   "source": [
    "# 3. Nettoyage des reads\n",
    "\n",
    "## FastP\n",
    "\n",
    "La deuxième étape d'un pipeline d'analyse RNA-seq est de nettoyer les reads de séquençage. Voici ce qu'on cherche à nettoyer : \n",
    "- Les reads / parties de reads de mauvaise qualité\n",
    "- les partie de reads contenant des adapteurs (séquences *techniques* collées aux séquences *biologiques* qui permettent le séquençage)\n",
    "- les reads trop courts\n",
    "\n",
    "Le programme `fastp` permet de faire tout cela en une fois, de manière (quasi-)automatique.\n",
    "\n",
    "Commencez par jeter un coup d'œil aux différentes options du programme."
   ]
  },
  {
   "cell_type": "code",
   "execution_count": null,
   "id": "97a24093-3809-4a2c-816b-9da18f09a7f9",
   "metadata": {
    "tags": []
   },
   "outputs": [],
   "source": [
    "fastp --help"
   ]
  },
  {
   "cell_type": "markdown",
   "id": "c05bcc66",
   "metadata": {},
   "source": [
    "Comme vous pouvez le voir, il y a un certain nombre d'options (on ne va pas toutes les explorer).\n",
    "\n",
    "Mais avant de se lancer, posons-nous quelques questions importantes :\n",
    "- Combien d'échantillons différents avons-nous ?\n",
    "- Combien de fichier(s) fastq par échantillon avons-nous ?\n",
    "- En quoi cela va-t-il affecter nos analyses ?\n",
    "- Comment faire tourner `fastp` (ou tout autre programme) en prenant cela en compte ?"
   ]
  },
  {
   "cell_type": "markdown",
   "id": "5d16415a",
   "metadata": {},
   "source": [
    "Le fichier `samples.chr7.txt` contient la liste des différents échantillons. À votre avis, que permet de faire le code contenu dans la cellule ci-dessous ?"
   ]
  },
  {
   "cell_type": "code",
   "execution_count": null,
   "id": "e512694c-2863-4099-81e2-ddc68faefd47",
   "metadata": {
    "tags": []
   },
   "outputs": [],
   "source": [
    "while read line\n",
    "do\n",
    "    echo -e $line\n",
    "done < /srv/data/meg-m1-a2b/blumenthal-2014/chr7/1-fastq/samples.chr7.txt"
   ]
  },
  {
   "cell_type": "markdown",
   "id": "18dc4cb0",
   "metadata": {},
   "source": [
    "Chaque ligne du fichier d'entrée est donc enregistrée dans une variable (nommée `$line`) que l'on va pouvoir manipuler / utiliser.\n",
    "\n",
    "Le premier réflexe serait de simplement compléter le nom de la variable pour former un nom de fichier, comme ci-dessous.\n",
    "\n",
    "Faites-tourner la cellule pour voir si vous formez un nom de fichier fastq correct."
   ]
  },
  {
   "cell_type": "code",
   "execution_count": null,
   "id": "73896df9-0e70-4d16-b067-301fd822a0f2",
   "metadata": {
    "tags": []
   },
   "outputs": [],
   "source": [
    "while read line\n",
    "do\n",
    "    echo -e $line_chr7_R1.fastq.gz\n",
    "done < /srv/data/meg-m1-a2b/blumenthal-2014/chr7/1-fastq/samples.chr7.txt"
   ]
  },
  {
   "cell_type": "markdown",
   "id": "a02824db",
   "metadata": {},
   "source": [
    "Normalement, la cellule ci-dessus ne devrait pas fonctionner (en tout cas pas donner des noms de fichiers corrects). `BASH` permet de manipuler les variables et le texte qu'elles contiennent en encadrant le nom de la variable avec des accolades (avec le `$` à l'extérieure des accolades) : \n",
    "\n",
    "`$line` --> `${line}`\n",
    "\n",
    "Le code de la cellule ci-dessous devrait afficher des noms de fichiers corrects."
   ]
  },
  {
   "cell_type": "code",
   "execution_count": null,
   "id": "c85978e3-00fb-41d4-b0c3-70ef2b4f1d9b",
   "metadata": {
    "tags": []
   },
   "outputs": [],
   "source": [
    "while read line\n",
    "do\n",
    "    echo -e ${line}_chr7_R1.fastq.gz\n",
    "done < /srv/data/meg-m1-a2b/blumenthal-2014/chr7/1-fastq/samples.chr7.txt"
   ]
  },
  {
   "cell_type": "markdown",
   "id": "5ea44a74",
   "metadata": {},
   "source": [
    "On peut donc afficher en mode détaillé chaque fichier de reads forward associé à chaque échantillon :"
   ]
  },
  {
   "cell_type": "code",
   "execution_count": null,
   "id": "5d2c55f8-8a3c-4a98-92cd-c19b6a44187e",
   "metadata": {
    "tags": []
   },
   "outputs": [],
   "source": [
    "while read line\n",
    "do\n",
    "    ls -alh /srv/data/meg-m1-a2b/blumenthal-2014/chr7/1-fastq/${line}_chr7_R1.fastq.gz\n",
    "done < /srv/data/meg-m1-a2b/blumenthal-2014/chr7/1-fastq/samples.chr7.txt"
   ]
  },
  {
   "cell_type": "markdown",
   "id": "40953fb6",
   "metadata": {},
   "source": [
    "Revenons à `fastp`. Comme vous l'avez vu, il y a un très grand nombre d'options disponibles pour cet outil. Dans le code ci-dessous, voici les options que l'on utilise :\n",
    "- `--in1` & `--in2` : permet de spécifier les fichiers d'entrée *forward* et *reverse*\n",
    "- `--out1` & `--out2` : permet de spécifier les fichiers de sortie *forward* et *reverse*\n",
    "- `--json` : enregistre les informations de sortie au format *json* \n",
    "- `--json` : enregistre les informations de sortie au format *html*\n",
    "- `--cut_right` : une des façons qu'à fastp de lire les reads (ici, par la partie 3')\n",
    "- `--cut_window_size` : analyse les reads par fenêtre de *x* nucléotides\n",
    "- `--cut_mean_quality` : spécifie la qualité moyenne *minimum* dans cette fenêtre\n",
    "- `--length_required` : spécifie la longueur minimum d'un read\n",
    "- `--detect_adapter_for_pe` : détection automatique d'adapteurs pour les reads *paired-end*\n",
    "- `--dedup`: déduplication des reads (duplication PCR)\n",
    "- `--dup_calc_accuracy` : précision de détection des reads dupliqués\n",
    "- `-p` : analyse de sur-représentation\n",
    "- `-P` : échantillonage pour l'analyse de sur-représentation\n",
    "- `--thread` : spécifie le nombre de CPU avec lequel le programme va tourner\n",
    "- `--verbose` : spécifie qu'on veut plus d'informations de sortie que par défaut. "
   ]
  },
  {
   "cell_type": "code",
   "execution_count": null,
   "id": "7cc53507-b840-4030-816d-861b336b751c",
   "metadata": {
    "tags": []
   },
   "outputs": [],
   "source": [
    "while read line\n",
    "do\n",
    "    fastp --in1 /srv/data/meg-m1-a2b/blumenthal-2014/chr7/1-fastq/${line}_chr7_R1.fastq.gz \\\n",
    "    --in2 /srv/data/meg-m1-a2b/blumenthal-2014/chr7/1-fastq/${line}_chr7_R2.fastq.gz \\\n",
    "    --out1 ./Analysis_chr7/2-afterTrimming/fastp/${line}_chr7_R1.fastp.fastq.gz \\\n",
    "    --out2 ./Analysis_chr7/2-afterTrimming/fastp/${line}_chr7_R2.fastp.fastq.gz \\\n",
    "    --json ./Analysis_chr7/2-afterTrimming/fastp/${line}.json \\\n",
    "    --html ./Analysis_chr7/2-afterTrimming/fastp/${line}.html \\\n",
    "    --cut_right \\\n",
    "    --cut_window_size 5 \\\n",
    "    --cut_mean_quality 25 \\\n",
    "    --average_qual 25 \\\n",
    "    --length_required 20 \\\n",
    "    --detect_adapter_for_pe \\\n",
    "    --dedup \\\n",
    "    --dup_calc_accuracy 3 \\\n",
    "    -p -P 500 \\\n",
    "    --thread 5 \\\n",
    "    --verbose\n",
    "\n",
    "done < /srv/data/meg-m1-a2b/blumenthal-2014/chr7/1-fastq/samples.chr7.txt"
   ]
  },
  {
   "cell_type": "code",
   "execution_count": 16,
   "id": "1531b728-8d74-4c0b-8da7-824fb1b40560",
   "metadata": {
    "tags": []
   },
   "outputs": [],
   "source": [
    "# multiqc -f -o ./Analysis_chr7/2-afterTrimming/multiqc/ \\\n",
    "#    -i \"GSE76872 - trimming\" \\\n",
    "#    --interactive \\\n",
    "#    ./Analysis_chr7/2-afterTrimming/fastp/*.json"
   ]
  },
  {
   "cell_type": "markdown",
   "id": "effa9016",
   "metadata": {},
   "source": [
    "## FastQC & MultiQC\n",
    "\n",
    "Une fois que `fastp` a terminé de tourner, il faut aller voir les effets de ce programme sur nos données avec `fastqc` et `multiqc`.  "
   ]
  },
  {
   "cell_type": "code",
   "execution_count": null,
   "id": "4abd2d54-4065-4783-8489-1f893001a6ad",
   "metadata": {
    "tags": []
   },
   "outputs": [],
   "source": [
    "fastqc -t 5 -o ./Analysis_chr7/2-afterTrimming/fastqc/ \\\n",
    "    ./Analysis_chr7/2-afterTrimming/fastp/*.fastq.gz\n",
    "\n",
    "multiqc -f -o ./Analysis_chr7/2-afterTrimming/multiqc/ \\\n",
    "    -i \"GSE76872 - FastQC after trimming\" \\\n",
    "    --interactive \\\n",
    "    ./Analysis_chr7/2-afterTrimming/fastqc/"
   ]
  },
  {
   "cell_type": "markdown",
   "id": "b25538c6",
   "metadata": {},
   "source": [
    "- Que pouvez-vous dire du résultat de `fastp` ? \n",
    "- Est-ce que beaucoup de séquences ont été enlevées ?"
   ]
  },
  {
   "cell_type": "markdown",
   "id": "10620990",
   "metadata": {},
   "source": [
    "# 4. Alignement des reads\n",
    "\n",
    "Une fois que les reads de séquençage ont été nettoyés, la troisième étape consiste à la cartographie (ou *mapping*) de ces reads *nettoyés* sur le génome d'intérêt.\n",
    "Il existe un grand nombre d'outils faisant cela (*bowtie*, *bwa*, *HISAT2*, *STAR*), ici, c'est l'outil *STAR* que l'on va utiliser. \n",
    "\n",
    "Une de ses particularités est qu'il est capable de couper les reads en plusieurs morceaux et d'aligner chacuns des morceaux.\n",
    "- En quoi cela est utile, voire nécessaire dans le cadre d'une analyse de RNA-seq ?\n",
    "- Pourquoi est-ce que d'autres outils ne faisant pas cela ne seront pas adaptés\n",
    "\n",
    "Un point important est que ces programmes ne peuvent pas travailler directement avec le génome de référence au format fasta (classique), mais on besoin d'*indéxer* le génome dans un format particulier. Cette étape a déjà été effectuée pour vous, mais gardez cette nécessité en tête.\n",
    "\n",
    "Un autre point important est que ces programmes sont très gourmands en ressources informatique (CPU, RAM) et ne sont pas fait pour tourner sur des ordinateurs personnels, mais plutôt sur des clusters de calcul.\n",
    "\n",
    "Commencez par regarder les options disponibles pour `STAR`"
   ]
  },
  {
   "cell_type": "code",
   "execution_count": null,
   "id": "5c7d371b-e3e1-4a2f-a1d4-2f8fe33283e9",
   "metadata": {
    "tags": []
   },
   "outputs": [],
   "source": [
    "STAR -h"
   ]
  },
  {
   "cell_type": "markdown",
   "id": "0355efb2",
   "metadata": {},
   "source": [
    "Comme vous pouvez le voir, le nombre d'options disponibles est énorme. dans le code ci-dessous, voici les options que l'on utilise : \n",
    "- `--genomeDir` : le dossier contenant le génome indexé\n",
    "- `--runThreadN` : le nombre de CPU\n",
    "- `--readFilesIn` : les fichiers contenant les reads de séquençage\n",
    "- `--outFileNamePrefix` : le préfixe (début du nom) pour les fichiers de sortie\n",
    "- `--outSAMtype` : le format de sortie (ici au format BAM)"
   ]
  },
  {
   "cell_type": "code",
   "execution_count": null,
   "id": "319531e8-83a6-4ea1-b29e-47155b24db31",
   "metadata": {
    "tags": []
   },
   "outputs": [],
   "source": [
    "while read line\n",
    "do\n",
    "    STAR --genomeDir /srv/data/Genomes/Mmu/GRCm39/indexes_chr7_upto49bases/ \\\n",
    "    --runThreadN 10 \\\n",
    "    --readFilesCommand zcat \\\n",
    "    --readFilesIn ./Analysis_chr7/2-afterTrimming/fastp/${line}_chr7_R1.fastp.fastq.gz ./Analysis_chr7/2-afterTrimming/fastp/${line}_chr7_R2.fastp.fastq.gz \\\n",
    "    --outFileNamePrefix ./Analysis_chr7/3-mapping/bam/${line}.chr7_ \\\n",
    "    --outSAMtype BAM SortedByCoordinate \\\n",
    "\n",
    "done < /srv/data/meg-m1-a2b/blumenthal-2014/chr7/1-fastq/samples.chr7.txt"
   ]
  },
  {
   "cell_type": "markdown",
   "id": "ea0b1f56",
   "metadata": {},
   "source": [
    "**Questions** :\n",
    "- Combien de fichiers de sortie par échantillons produit `STAR` ?\n",
    "- Dans quel fichier peut-on trouver les informations de mapping (pourcentage de reads mappés) ?"
   ]
  },
  {
   "cell_type": "markdown",
   "id": "3811e4e3",
   "metadata": {},
   "source": [
    "## MultiQC\n",
    "\n",
    "Une fois le mapping terminé pour tous les échantillons, on peut lancer l'outil `multiqc` pour agréger les informations de mapping."
   ]
  },
  {
   "cell_type": "code",
   "execution_count": null,
   "id": "c4297aef-4646-48ef-b0db-e38a29b63c29",
   "metadata": {
    "tags": []
   },
   "outputs": [],
   "source": [
    "multiqc -f -o ./Analysis_chr7/3-mapping/multiqc/ \\\n",
    "    -i \"GSE76872 - Mapping\" \\\n",
    "    --interactive \\\n",
    "    ./Analysis_chr7/3-mapping/bam/"
   ]
  },
  {
   "cell_type": "markdown",
   "id": "2f69eab0",
   "metadata": {},
   "source": [
    "**Questions** : \n",
    "- Quelles informations pouvez-vous avoir sur la qualité du mapping ? Quelles informations vous semblent les plus importantes ?\n",
    "- Que pouvez-vous dire sur la qualité globale du mapping ?"
   ]
  },
  {
   "cell_type": "markdown",
   "id": "c969a2de",
   "metadata": {},
   "source": [
    "## Indexation des fichiers de mapping\n",
    "\n",
    "Une fois le mapping lancé, on lance l'outil `samtools` pour indexer les fichiers de mapping. Cette étape est nécessaire pour des outils ultérieurs (*e.x.* IGV)."
   ]
  },
  {
   "cell_type": "code",
   "execution_count": 21,
   "id": "7f5c9e35-f735-4137-9177-f9e2b82ea4d5",
   "metadata": {
    "tags": []
   },
   "outputs": [],
   "source": [
    "samtools index -M ./Analysis_chr7/3-mapping/bam/*.bam"
   ]
  }
 ],
 "metadata": {
  "kernelspec": {
   "display_name": "Bash",
   "language": "bash",
   "name": "bash"
  },
  "language_info": {
   "codemirror_mode": "shell",
   "file_extension": ".sh",
   "mimetype": "text/x-sh",
   "name": "bash"
  }
 },
 "nbformat": 4,
 "nbformat_minor": 5
}
