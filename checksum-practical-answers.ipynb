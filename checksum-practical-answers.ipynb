{
 "cells": [
  {
   "cell_type": "markdown",
   "metadata": {},
   "source": [
    "# Sommes de contrôle - exercices - éléments de correction\n",
    "\n",
    "Les réponses proposées ci-dessous ne sont que des éléments de correction. D'autres solutions alternatives sont parfaitement possibles.\n",
    "\n",
    "L'objectif de ce TP est de découvrir le fonctionnement et l’utilité des commandes `md5sum` et `sha256sum`.\n",
    "\n",
    "**Remarque :** avec un système d'exploitation Mac OS X, \n",
    "\n",
    "- l'équivalent de la commande `md5sum` est `md5`\n",
    "- et l'équivalent de la commande `sha256sum` est `shasum -a 256` .\n",
    "\n",
    "Supprimez tout d'abord les éventuels fichiers résiduels :"
   ]
  },
  {
   "cell_type": "code",
   "execution_count": null,
   "metadata": {
    "tags": []
   },
   "outputs": [],
   "source": [
    "rm -f test1.txt test2.txt mng2015_children_malaria_data.csv mng2015_children_malaria_codebook.txt"
   ]
  },
  {
   "cell_type": "markdown",
   "metadata": {},
   "source": [
    "## MD5\n",
    "\n",
    "1. Dans votre répertoire utilisateur, créez le fichier `test1.txt` et ajoutez à l'intérieur quelques lignes."
   ]
  },
  {
   "cell_type": "markdown",
   "metadata": {},
   "source": [
    "On peut créer le fichier `test1.txt`, comme indiqué avec `nano`, mais également en ligne de commande :"
   ]
  },
  {
   "cell_type": "code",
   "execution_count": null,
   "metadata": {
    "tags": []
   },
   "outputs": [],
   "source": [
    "echo \"test avec quelques mots\" > test1.txt\n",
    "echo \"et une seconde ligne\" >> test1.txt\n",
    "cat test1.txt"
   ]
  },
  {
   "cell_type": "markdown",
   "metadata": {},
   "source": [
    "2. Faites une copie de ce fichier dans `test2.txt`."
   ]
  },
  {
   "cell_type": "code",
   "execution_count": null,
   "metadata": {
    "tags": []
   },
   "outputs": [],
   "source": [
    "cp test1.txt test2.txt"
   ]
  },
  {
   "cell_type": "markdown",
   "metadata": {},
   "source": [
    "3. Calculez les empreintes MD5 des deux fichiers avec la commande\n",
    "    ```\n",
    "    md5sum test1.txt test2.txt\n",
    "    ```"
   ]
  },
  {
   "cell_type": "code",
   "execution_count": null,
   "metadata": {
    "tags": []
   },
   "outputs": [],
   "source": [
    "md5sum test1.txt test2.txt"
   ]
  },
  {
   "cell_type": "markdown",
   "metadata": {},
   "source": [
    "Attention, suivant ce que vous avez mis dans votre fichier, vous n'aurez pas la même empreinte.\n",
    "\n",
    "4. Que pouvez-vous dire de ces empreintes et des fichiers correspondants ?"
   ]
  },
  {
   "cell_type": "markdown",
   "metadata": {},
   "source": [
    "Les empreintes sont les mêmes donc les fichiers sont identiques (copie l'un de l'autre)."
   ]
  },
  {
   "cell_type": "markdown",
   "metadata": {},
   "source": [
    "5. Ouvrez le fichier `test2.txt` et modifiez un seul caractère."
   ]
  },
  {
   "cell_type": "markdown",
   "metadata": {},
   "source": [
    "On peut modifier le fichier `test2.txt`, comme indiqué avec `nano`, mais également en ligne de commande.\n",
    "\n",
    "Par exemple, en remplacant un seul caractère (le `a` de `avec` est remplacé par `A`) :"
   ]
  },
  {
   "cell_type": "code",
   "execution_count": null,
   "metadata": {
    "tags": []
   },
   "outputs": [],
   "source": [
    "sed -i 's/a/A/' test2.txt\n",
    "cat test2.txt"
   ]
  },
  {
   "cell_type": "markdown",
   "metadata": {},
   "source": [
    "6. Calculez à nouveau les empreintes MD5 des deux fichiers."
   ]
  },
  {
   "cell_type": "code",
   "execution_count": null,
   "metadata": {
    "tags": []
   },
   "outputs": [],
   "source": [
    "md5sum test1.txt test2.txt"
   ]
  },
  {
   "cell_type": "markdown",
   "metadata": {},
   "source": [
    "Attention, suivant ce que vous avez mis dans votre fichier, vous n'aurez pas la même empreinte."
   ]
  },
  {
   "cell_type": "markdown",
   "metadata": {},
   "source": [
    "7. Que pouvez-vous dire de ces empreintes ? Existe-t-il une similarité entre les deux empreintes ?"
   ]
  },
  {
   "cell_type": "markdown",
   "metadata": {},
   "source": [
    "L'empreinte du fichier `test1.txt` est la même que précédemment car le fichier n'a pas été modifié. Par contre, l'empreinte du fichier `test2.txt` est complètement différente, alors qu'un seul caractère a été modifié (*a* minuscule remplacé par un *A* majuscule)."
   ]
  },
  {
   "cell_type": "markdown",
   "metadata": {},
   "source": [
    "8. Supprimez le fichier `test2.txt`."
   ]
  },
  {
   "cell_type": "code",
   "execution_count": null,
   "metadata": {
    "tags": []
   },
   "outputs": [],
   "source": [
    "rm -f test2.txt"
   ]
  },
  {
   "cell_type": "markdown",
   "metadata": {},
   "source": [
    "9. Téléchargez (avec votre navigateur ou en ligne de commande) les fichiers `mng2015_children_malaria_data.csv` et `mng2015_children_malaria_codebook.txt` que vous trouverez en bas de la page <https://zenodo.org/record/154453/>.\n",
    "\n",
    "    En utilisant les empreintes MD5 disponibles sur la page <https://zenodo.org/record/154453/>, vérifiez l'intégrité de ces fichiers."
   ]
  },
  {
   "cell_type": "markdown",
   "metadata": {},
   "source": [
    "Téléchargement des fichiers `mng2015_children_malaria_data.csv` et `mng2015_children_malaria_codebook.txt` en ligne de commande :"
   ]
  },
  {
   "cell_type": "code",
   "execution_count": null,
   "metadata": {
    "tags": []
   },
   "outputs": [],
   "source": [
    "wget https://zenodo.org/record/154453/files/mng2015_children_malaria_data.csv\n",
    "wget https://zenodo.org/record/154453/files/mng2015_children_malaria_codebook.txt"
   ]
  },
  {
   "cell_type": "markdown",
   "metadata": {},
   "source": [
    "Calcul des empreintes MD5 :"
   ]
  },
  {
   "cell_type": "code",
   "execution_count": null,
   "metadata": {
    "tags": []
   },
   "outputs": [],
   "source": [
    "md5sum mng2015_*"
   ]
  },
  {
   "cell_type": "markdown",
   "metadata": {},
   "source": [
    "Les empreintes MD5 des fichiers téléchargés sont les mêmes que celles indiquées en bas de la page <https://zenodo.org/record/154453/>. Les fichiers téléchargés et ceux sur le serveur sont donc identiques. J'ai téléchargé les bons fichiers."
   ]
  },
  {
   "cell_type": "markdown",
   "metadata": {},
   "source": [
    "## SHA256\n",
    "\n",
    "1. Faites une nouvelle copie de `test1.txt` dans `test3.txt`."
   ]
  },
  {
   "cell_type": "code",
   "execution_count": null,
   "metadata": {
    "tags": []
   },
   "outputs": [],
   "source": [
    "cp test1.txt test3.txt"
   ]
  },
  {
   "cell_type": "markdown",
   "metadata": {},
   "source": [
    "2. Calculez les empreintes SHA256 des deux fichiers avec la commande\n",
    "    ```\n",
    "    sha256sum test1.txt test3.txt\n",
    "    ```"
   ]
  },
  {
   "cell_type": "code",
   "execution_count": null,
   "metadata": {
    "tags": []
   },
   "outputs": [],
   "source": [
    "sha256sum test1.txt test3.txt"
   ]
  },
  {
   "cell_type": "markdown",
   "metadata": {},
   "source": [
    "Attention, suivant ce que vous avez mis dans votre fichier, vous n'aurez pas la même empreinte."
   ]
  },
  {
   "cell_type": "markdown",
   "metadata": {},
   "source": [
    "3. Que pouvez-vous dire de ces empreintes ? Comparez-les aux empreintes MD5."
   ]
  },
  {
   "cell_type": "markdown",
   "metadata": {},
   "source": [
    "Les empreintes SHA256 sont identiques car les deux fichiers sont identiques (copie l'un de l'autre).\n",
    "\n",
    "Les empreintes SHA256 sont plus longues (donc plus complexes) que les empreintes MD5. Les empreintes SH256 sont composées de 64 caractères contre 32 caractères pour les empreintes MD5."
   ]
  },
  {
   "cell_type": "markdown",
   "metadata": {},
   "source": [
    "4. Ouvrez le fichier `test3.txt` et modifiez un seul caractère."
   ]
  },
  {
   "cell_type": "markdown",
   "metadata": {},
   "source": [
    "On peut modifier le fichier `test3.txt`, comme indiqué avec `nano`, mais également en ligne de commande.\n",
    "\n",
    "Par exemple, en remplacant un seul caractère (le `v` de `avec` est remplacé par `b`) :"
   ]
  },
  {
   "cell_type": "code",
   "execution_count": null,
   "metadata": {
    "tags": []
   },
   "outputs": [],
   "source": [
    "sed -i 's/v/b/' test3.txt"
   ]
  },
  {
   "cell_type": "markdown",
   "metadata": {},
   "source": [
    "5. Calculez à nouveau les empreintes SHA256 des deux fichiers."
   ]
  },
  {
   "cell_type": "code",
   "execution_count": null,
   "metadata": {
    "tags": []
   },
   "outputs": [],
   "source": [
    "sha256sum test1.txt test3.txt"
   ]
  },
  {
   "cell_type": "markdown",
   "metadata": {},
   "source": [
    "6. Que pouvez-vous dire de ces empreintes ? Y a-t-il une similarité entre les deux empreintes ?"
   ]
  },
  {
   "cell_type": "markdown",
   "metadata": {},
   "source": [
    "L'empreinte du fichier `test1.txt` est la même que précédemment car le fichier n'a pas été modifié. Par contre, l'empreinte du fichier `test3.txt` est complètement différente, alors qu'un seul caractère a été modifié (*v* remplacé par un *b*)."
   ]
  }
 ],
 "metadata": {
  "kernelspec": {
   "display_name": "Bash",
   "language": "bash",
   "name": "bash"
  },
  "language_info": {
   "codemirror_mode": "shell",
   "file_extension": ".sh",
   "mimetype": "text/x-sh",
   "name": "bash"
  },
  "toc-autonumbering": true,
  "toc-showcode": true
 },
 "nbformat": 4,
 "nbformat_minor": 4
}
