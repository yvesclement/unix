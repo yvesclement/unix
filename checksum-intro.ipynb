{
 "cells": [
  {
   "cell_type": "markdown",
   "metadata": {},
   "source": [
    "# Sommes de contrôle"
   ]
  },
  {
   "cell_type": "markdown",
   "metadata": {},
   "source": [
    "Les sommes de contrôle sont la signature ou l'empreinte numérique (*hash*) d'un fichier.\n",
    "\n",
    "Elles sont particulièrement utiles pour vérifier l'intégrité d'un fichier.\n",
    "\n",
    "![](https://raw.githubusercontent.com/pierrepo/unix/master/checksum.png)\n",
    "\n",
    "En passant un fichier dans un algorithme particulier, on obtient une somme de contrôle, souvent représentée comme une suite de chiffres et de lettres."
   ]
  },
  {
   "cell_type": "markdown",
   "metadata": {},
   "source": [
    "# MD5\n",
    "\n",
    "L'agorithme *Message Digest 5* (MD5) est un des algorithmes les plus utilisés et un des plus anciens. Il date de 1991.\n",
    "\n",
    "Cet algorithme est (était) utilisé en cryptographie. \n",
    "\n",
    "L'empreinte est obtenue est représentée sur 32 caractatères. Par exemple : \n",
    "```\n",
    "0648b3abc5c0e0e7cbf78c466670affa\n",
    "```\n",
    "\n",
    "La probabilité que 2 fichiers différents possèdent la même empreinte est de l'ordre de $2^{-128}$, c'est-à-dire très très très faible.\n",
    "\n",
    "## Démo\n",
    "\n",
    "Nettoyage des éventuels fichiers résiduels et téléchargement des fichiers nécessaires :"
   ]
  },
  {
   "cell_type": "code",
   "execution_count": 13,
   "metadata": {
    "tags": []
   },
   "outputs": [
    {
     "name": "stdout",
     "output_type": "stream",
     "text": [
      "--2024-09-27 15:48:18--  https://raw.githubusercontent.com/pierrepo/unix/master/gyra_coll.jpg\n",
      "Resolving raw.githubusercontent.com (raw.githubusercontent.com)... 185.199.110.133, 185.199.111.133, 185.199.108.133, ...\n",
      "Connecting to raw.githubusercontent.com (raw.githubusercontent.com)|185.199.110.133|:443... connected.\n",
      "HTTP request sent, awaiting response... 200 OK\n",
      "Length: 141440 (138K) [image/jpeg]\n",
      "Saving to: ‘gyra_coll.jpg’\n",
      "\n",
      "gyra_coll.jpg       100%[===================>] 138.12K  --.-KB/s    in 0.02s   \n",
      "\n",
      "2024-09-27 15:48:19 (8.05 MB/s) - ‘gyra_coll.jpg’ saved [141440/141440]\n",
      "\n",
      "--2024-09-27 15:48:19--  https://raw.githubusercontent.com/pierrepo/unix/master/souvlaki_coll.jpg\n",
      "Resolving raw.githubusercontent.com (raw.githubusercontent.com)... 185.199.111.133, 185.199.108.133, 185.199.109.133, ...\n",
      "Connecting to raw.githubusercontent.com (raw.githubusercontent.com)|185.199.111.133|:443... connected.\n",
      "HTTP request sent, awaiting response... 200 OK\n",
      "Length: 141440 (138K) [image/jpeg]\n",
      "Saving to: ‘souvlaki_coll.jpg’\n",
      "\n",
      "souvlaki_coll.jpg   100%[===================>] 138.12K  --.-KB/s    in 0.02s   \n",
      "\n",
      "2024-09-27 15:48:19 (7.50 MB/s) - ‘souvlaki_coll.jpg’ saved [141440/141440]\n",
      "\n"
     ]
    }
   ],
   "source": [
    "rm -f test1.txt test2.txt test3.txt gyra_coll.jpg souvlaki_coll.jpg\n",
    "wget https://raw.githubusercontent.com/pierrepo/unix/master/gyra_coll.jpg\n",
    "wget https://raw.githubusercontent.com/pierrepo/unix/master/souvlaki_coll.jpg"
   ]
  },
  {
   "cell_type": "markdown",
   "metadata": {},
   "source": [
    "Créons avec la ligne de commande 2 fichiers, `test1.txt` et `test2.txt` qui contiennent chacun une chaîne de caractères très simple :\n",
    "\n",
    "- « Salut à tous » pour `test1.txt` ;\n",
    "- « Salut a tous » pour `test2.txt` (le « a » n'a pas d'accent)."
   ]
  },
  {
   "cell_type": "code",
   "execution_count": 14,
   "metadata": {
    "tags": []
   },
   "outputs": [
    {
     "name": "stdout",
     "output_type": "stream",
     "text": [
      "Salut à tous\n"
     ]
    }
   ],
   "source": [
    "echo \"Salut à tous\" > test1.txt\n",
    "cat test1.txt"
   ]
  },
  {
   "cell_type": "code",
   "execution_count": 15,
   "metadata": {
    "tags": []
   },
   "outputs": [
    {
     "name": "stdout",
     "output_type": "stream",
     "text": [
      "Salut a tous\n"
     ]
    }
   ],
   "source": [
    "echo \"Salut a tous\" > test2.txt\n",
    "cat test2.txt"
   ]
  },
  {
   "cell_type": "markdown",
   "metadata": {},
   "source": [
    "Calculons maintenant la somme de contrôle pour ces deux fichiers :"
   ]
  },
  {
   "cell_type": "code",
   "execution_count": 16,
   "metadata": {
    "tags": []
   },
   "outputs": [
    {
     "name": "stdout",
     "output_type": "stream",
     "text": [
      "6af5051ffed583d505561d1e137adb7d  test1.txt\n"
     ]
    }
   ],
   "source": [
    "md5sum test1.txt"
   ]
  },
  {
   "cell_type": "code",
   "execution_count": 17,
   "metadata": {
    "tags": []
   },
   "outputs": [
    {
     "name": "stdout",
     "output_type": "stream",
     "text": [
      "d1c19d89a16951b56824dc53819ef771  test2.txt\n"
     ]
    }
   ],
   "source": [
    "md5sum test2.txt"
   ]
  },
  {
   "cell_type": "markdown",
   "metadata": {},
   "source": [
    "Bien qu'un seul caractère diffère entre les deux fichiers `test1.txt` et `test2.txt` (« à » et « a »), les empreintes sont totalement différentes. Il n'y a **aucune relation** entre le contenu d'un fichier et son empreinte.\n",
    "\n",
    "Par ailleurs, il n'est pas possible de déduire le contenu d'un fichier à partir de sa somme de contrôle.\n",
    "\n",
    "Copions maintenant le fichier `test1.txt` :"
   ]
  },
  {
   "cell_type": "code",
   "execution_count": 18,
   "metadata": {
    "tags": []
   },
   "outputs": [],
   "source": [
    "cp test1.txt test3.txt"
   ]
  },
  {
   "cell_type": "markdown",
   "metadata": {},
   "source": [
    "et calculons son empreinte :"
   ]
  },
  {
   "cell_type": "code",
   "execution_count": 19,
   "metadata": {
    "tags": []
   },
   "outputs": [
    {
     "name": "stdout",
     "output_type": "stream",
     "text": [
      "6af5051ffed583d505561d1e137adb7d  test3.txt\n"
     ]
    }
   ],
   "source": [
    "md5sum test3.txt"
   ]
  },
  {
   "cell_type": "markdown",
   "metadata": {},
   "source": [
    "L'empreinte de `test3.txt` est identique à celle de `test1.txt`. Cela est parfaitement logique car nous avons réalisé une copie des deux fichiers. Leurs contenus sont donc strictement identiques et par conséquence, leurs empreintes également."
   ]
  },
  {
   "cell_type": "markdown",
   "metadata": {},
   "source": [
    "<div class=\"alert alert-block alert-info\">\n",
    "Attention, si vous reproduisez cet exemple, il se peut que vous n'obteniez pas les mêmes sommes de contrôle selon que vous ayez ajouté ou pas un retour en ligne et selon votre système d'exploitation.\n",
    "</div>"
   ]
  },
  {
   "cell_type": "markdown",
   "metadata": {},
   "source": [
    "## D'autres exemples\n",
    "\n",
    "Voici deux images tirées du blog de [emaragkos](https://emaragkos.gr/infosec-adventures/create-your-own-md5-collisions/).\n",
    "\n",
    "Une image de chat Gyra :\n",
    "\n",
    "![](https://raw.githubusercontent.com/pierrepo/unix/master/gyra_coll.jpg)\n",
    "\n",
    "Une image de souvlakis :\n",
    "\n",
    "![](https://raw.githubusercontent.com/pierrepo/unix/master/souvlaki_coll.jpg)\n",
    "\n",
    "Calculons leurs sommes de contrôle.\n",
    "\n",
    "Pour l'image du chat Gyra :"
   ]
  },
  {
   "cell_type": "code",
   "execution_count": 20,
   "metadata": {
    "tags": []
   },
   "outputs": [
    {
     "name": "stdout",
     "output_type": "stream",
     "text": [
      "59bbfd270bdf5817c5d77e739839a02a  gyra_coll.jpg\n"
     ]
    }
   ],
   "source": [
    "md5sum gyra_coll.jpg"
   ]
  },
  {
   "cell_type": "markdown",
   "metadata": {},
   "source": [
    "Pour l'image des souvlakis :"
   ]
  },
  {
   "cell_type": "code",
   "execution_count": 21,
   "metadata": {
    "tags": []
   },
   "outputs": [
    {
     "name": "stdout",
     "output_type": "stream",
     "text": [
      "59bbfd270bdf5817c5d77e739839a02a  souvlaki_coll.jpg\n"
     ]
    }
   ],
   "source": [
    "md5sum souvlaki_coll.jpg"
   ]
  },
  {
   "cell_type": "markdown",
   "metadata": {},
   "source": [
    "Intéressant n'est-ce pas !\n",
    "\n",
    "Ces deux images, pourtant visuellement différentes, présentent la même somme de contrôle avec l'algorithme MD5. Ceci est volontaire !\n",
    "\n",
    "L'algorithme MD5 n'est plus considéré comme sécurisé. Il n'est plus utilisé dans les secteurs sensibles comme la banque ou la sécurité informatique. On peut par contre l'utiliser en bioinformatique pour vérifier l'intégrité d'un fichier."
   ]
  },
  {
   "cell_type": "markdown",
   "metadata": {},
   "source": [
    "D'autres exemples de collisions avec l'algorithme MD5 :\n",
    "\n",
    "- [Create your own MD5 collisions](https://natmchugh.blogspot.com/2015/02/create-your-own-md5-collisions.html), Nat McHugh.\n",
    "- [MD5Collisions](http://web.archive.org/web/20071226014140/http://www.cits.rub.de/MD5Collisions/)"
   ]
  },
  {
   "cell_type": "markdown",
   "metadata": {},
   "source": [
    "# Algorithme SHA\n",
    "\n",
    "Il existe un autre algorithme, plus performant que MD5 : le *Secure Hash Algorithme* (SHA).\n",
    "\n",
    "On peut utiliser l'algorithme SHA avec différents niveaux de complexité.\n",
    "\n",
    "Comparez par exemple les sommes de contrôle obtenues avec MD5 et plusieurs versions de SHA :"
   ]
  },
  {
   "cell_type": "code",
   "execution_count": 22,
   "metadata": {
    "tags": []
   },
   "outputs": [
    {
     "name": "stdout",
     "output_type": "stream",
     "text": [
      "6af5051ffed583d505561d1e137adb7d  test1.txt\n"
     ]
    }
   ],
   "source": [
    "md5sum test1.txt"
   ]
  },
  {
   "cell_type": "code",
   "execution_count": 23,
   "metadata": {
    "tags": []
   },
   "outputs": [
    {
     "name": "stdout",
     "output_type": "stream",
     "text": [
      "d6d4e1d324da8bc355162c3fccc7546b0d11e002  test1.txt\n"
     ]
    }
   ],
   "source": [
    "sha1sum test1.txt"
   ]
  },
  {
   "cell_type": "code",
   "execution_count": 24,
   "metadata": {
    "tags": []
   },
   "outputs": [
    {
     "name": "stdout",
     "output_type": "stream",
     "text": [
      "22c84476f158dce04a6c966c8696994cf799b7f2f6381d4149c21cec5788523a  test1.txt\n"
     ]
    }
   ],
   "source": [
    "sha256sum test1.txt"
   ]
  },
  {
   "cell_type": "markdown",
   "metadata": {},
   "source": [
    "Vous remarquerez que les sommes de contrôle sont de plus en plus longues à mesure qu'on utilise un algorithme plus complexe.\n",
    "\n",
    "- empreinte MD5 : 32 caractères\n",
    "- empreinte SHA1 : 40 caractères\n",
    "- empreinte SHA256 : 64 caractères\n",
    "\n",
    "Plus l'empreinte est grande, plus l'algorithme est considéré comme robuste.\n",
    "\n",
    "En février 2017, l'algorithme SHA1 [a été cassé](https://shattered.io/). L'utilisation de l'algorithme SHA256 est désormais recommandée en sécurité informatique."
   ]
  }
 ],
 "metadata": {
  "interpreter": {
   "hash": "54eccf3ab823fa2bd9eb293fbe75ceb6db1df04daf75e4d2b278314af0c069da"
  },
  "kernelspec": {
   "display_name": "Bash",
   "language": "bash",
   "name": "bash"
  },
  "language_info": {
   "codemirror_mode": "shell",
   "file_extension": ".sh",
   "mimetype": "text/x-sh",
   "name": "bash"
  }
 },
 "nbformat": 4,
 "nbformat_minor": 4
}
