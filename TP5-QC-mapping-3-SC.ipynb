{
 "cells": [
  {
   "cell_type": "markdown",
   "id": "78960e93",
   "metadata": {},
   "source": [
    "# M1 MEG - UE 5 A2B\n",
    "\n",
    "## Pipeline d'Analyse de Données RNA-seq - Partie 1\n",
    "### TP5 - 24/09/2025\n",
    "\n",
    "<div class=\"alert alert-info\">\n",
    "<b>Aperçu du Cours :</b><br>\n",
    "Ce notebook couvre les étapes essentielles de la première partie de l'analyse de données RNA-seq incluant : <br>\n",
    "    - vérification de l'intégrité des fichiers <br>\n",
    "    - Contrôle qualité des données de séquençage brutes <br>\n",
    "    - Prétraitement des reads <br>\n",
    "    - Alignement des reads sur le génome de référence <br>\n",
    "</div>\n",
    "\n",
    "<div class=\"alert alert-warning\">\n",
    "<b>Ressources de l'environnement :</b><br>\n",
    "- CPUs : 4\n",
    "- RAM : 4 GB\n",
    "</div>\n",
    "\n",
    "<div class=\"alert alert-success\">\n",
    "<b>Emplacements des Données :</b><br>\n",
    "- Données Brutes : <code>/srv/data/meg-m1-a2b/blumenthal-2014/chr7/1-fastq/</code> <br>\n",
    "- Annotation du Génome : <code>/srv/data/Genomes/Mmu/GRCm39/extracted/genome_annotation-M37.gtf</code> <br>\n",
    "- Index du Génome : <code>/srv/data/Genomes/Mmu/GRCm39/indexes_upto49bases/</code> <br>\n",
    "</div>"
   ]
  },
  {
   "cell_type": "markdown",
   "id": "253ea325",
   "metadata": {},
   "source": [
    "## 0. Configuration de l'Environnement\n",
    "\n",
    "<div class=\"alert alert-info\">\n",
    "Les outils requis sont pré-installés dans l'environnement meg-m1-ue5-unix2 dans lequel vous êtes : <br>\n",
    "- FastQC (v0.12.1) - Contrôle qualité <br>\n",
    "- MultiQC (v1.13) - Rapports agrégés <br>\n",
    "- fastp (v0.23.1) - Prétraitement des reads <br>\n",
    "- STAR (v2.7.11a) - Alignement des reads <br>\n",
    "- samtools (v1.18) - Manipulation des fichiers BAM <br>\n",
    "</div>"
   ]
  },
  {
   "cell_type": "markdown",
   "id": "39048fb3-43e6-4dd2-83fc-8cfe0e119c42",
   "metadata": {},
   "source": [
    "Création des répertoires où seront stockés les résultats des différentes étapes d'analyses.   "
   ]
  },
  {
   "cell_type": "code",
   "execution_count": 3,
   "id": "1eeff413-85f1-4aeb-a735-cfe575991588",
   "metadata": {
    "tags": []
   },
   "outputs": [
    {
     "name": "stdout",
     "output_type": "stream",
     "text": [
      "/srv/home/scaburet/meg-m1-ue5-unix2-testmapping\n"
     ]
    }
   ],
   "source": [
    "cd ~/meg-m1-ue5-unix2-testmapping\n",
    "pwd"
   ]
  },
  {
   "cell_type": "code",
   "execution_count": 4,
   "id": "6573d145-ba95-4547-a172-9c1ffe5e4e53",
   "metadata": {
    "tags": []
   },
   "outputs": [
    {
     "name": "stdout",
     "output_type": "stream",
     "text": [
      "total 84K\n",
      "drwxr-xr-x 2 scaburet scaburet 4.0K Sep 11 16:18 binder\n",
      "-rw-r--r-- 1 scaburet scaburet  358 Sep 11 16:18 README.md\n",
      "-rw-rw-r-- 1 scaburet     1012  76K Sep 11 16:19 TP5-QC-mapping.ipynb\n"
     ]
    }
   ],
   "source": [
    "ls -lh"
   ]
  },
  {
   "cell_type": "code",
   "execution_count": 5,
   "id": "a2f74059-dc8b-4ccd-91c8-2b6ba806212b",
   "metadata": {
    "tags": []
   },
   "outputs": [
    {
     "name": "stdout",
     "output_type": "stream",
     "text": [
      "3341615 + 0 in total (QC-passed reads + QC-failed reads)\n",
      "3168704 + 0 primary\n",
      "172911 + 0 secondary\n",
      "0 + 0 supplementary\n",
      "185458 + 0 duplicates\n",
      "185458 + 0 primary duplicates\n",
      "3341615 + 0 mapped (100.00% : N/A)\n",
      "3168704 + 0 primary mapped (100.00% : N/A)\n",
      "3168704 + 0 paired in sequencing\n",
      "1584802 + 0 read1\n",
      "1583902 + 0 read2\n",
      "3166272 + 0 properly paired (99.92% : N/A)\n",
      "3166272 + 0 with itself and mate mapped\n",
      "2432 + 0 singletons (0.08% : N/A)\n",
      "0 + 0 with mate mapped to a different chr\n",
      "0 + 0 with mate mapped to a different chr (mapQ>=5)\n"
     ]
    }
   ],
   "source": [
    "samtools flagstat /srv/data/meg-m1-a2b/blumenthal-2014/chr7/3-bam/SRX1589831.chr7.bam"
   ]
  },
  {
   "cell_type": "code",
   "execution_count": 6,
   "id": "6e079eb6",
   "metadata": {
    "tags": []
   },
   "outputs": [],
   "source": [
    "# Cellule 1 : Créer les répertoires de travail\n",
    "mkdir -p ./rnaseq/results/1-fastqc\n",
    "mkdir -p ./rnaseq/results/2-fastpfq\n",
    "mkdir -p ./rnaseq/results/3-bam\n",
    "mkdir -p ./rnaseq/results/0-multiqc\n"
   ]
  },
  {
   "cell_type": "markdown",
   "id": "921151c3-9fc7-4d4f-ab58-5a258a8b540a",
   "metadata": {
    "tags": []
   },
   "source": [
    "## 1. Vérification des fichiers de données initiaux"
   ]
  },
  {
   "cell_type": "code",
   "execution_count": 7,
   "id": "1273f0db-06d3-4d78-a89b-3aede171aa26",
   "metadata": {
    "tags": []
   },
   "outputs": [
    {
     "name": "stdout",
     "output_type": "stream",
     "text": [
      "total 481M\n",
      "-rw-rw-r--+ 1 scaburet 1012 372 Sep  9 15:47 md5sum.txt\n",
      "-rw-rw-r--+ 1 scaburet 1012 14K Sep  3 17:18 samples-Blumenthal2014.tsv\n",
      "-rw-rw-r--+ 1 scaburet 1012 80M Sep  9 15:46 SRX1589831_chr7_R1.fastq.gz\n",
      "-rw-rw-r--+ 1 scaburet 1012 82M Sep  9 15:46 SRX1589831_chr7_R2.fastq.gz\n",
      "-rw-rw-r--+ 1 scaburet 1012 90M Sep  9 15:46 SRX1589834_chr7_R1.fastq.gz\n",
      "-rw-rw-r--+ 1 scaburet 1012 92M Sep  9 15:46 SRX1589834_chr7_R2.fastq.gz\n",
      "-rw-rw-r--+ 1 scaburet 1012 69M Sep  9 15:47 SRX1589839_chr7_R1.fastq.gz\n",
      "-rw-rw-r--+ 1 scaburet 1012 70M Sep  9 15:47 SRX1589839_chr7_R2.fastq.gz\n"
     ]
    }
   ],
   "source": [
    "ls -lh /srv/data/meg-m1-a2b/blumenthal-2014/chr7/1-fastq/"
   ]
  },
  {
   "cell_type": "code",
   "execution_count": 8,
   "id": "5f1b69f0-0826-4fc2-aada-edcd03427ed9",
   "metadata": {
    "tags": []
   },
   "outputs": [
    {
     "name": "stdout",
     "output_type": "stream",
     "text": [
      "0021704ca4f1dd04a00d708d1311db73  /srv/data/meg-m1-a2b/blumenthal-2014/chr7/1-fastq/SRX1589831_chr7_R1.fastq.gz\n"
     ]
    }
   ],
   "source": [
    "md5sum /srv/data/meg-m1-a2b/blumenthal-2014/chr7/1-fastq/SRX1589831_chr7_R1.fastq.gz"
   ]
  },
  {
   "cell_type": "code",
   "execution_count": 9,
   "id": "e353898c-3144-41a0-8c05-758460cbd5dd",
   "metadata": {
    "tags": []
   },
   "outputs": [
    {
     "name": "stdout",
     "output_type": "stream",
     "text": [
      "0021704ca4f1dd04a00d708d1311db73  SRX1589831_chr7_R1.fastq.gz\n",
      "558d9168b0c630a0182f60c63d931c1a  SRX1589831_chr7_R2.fastq.gz\n",
      "e8e4e8c09b0adf38c57cacb1041a9a6a  SRX1589834_chr7_R1.fastq.gz\n",
      "cf8fa4a75e6d4f2723ae8218a91e8d74  SRX1589834_chr7_R2.fastq.gz\n",
      "4765f492b28bc17892e1112576d2723c  SRX1589839_chr7_R1.fastq.gz\n",
      "1089bdb8566a7389a24f692ce95341d4  SRX1589839_chr7_R2.fastq.gz\n"
     ]
    }
   ],
   "source": [
    "head /srv/data/meg-m1-a2b/blumenthal-2014/chr7/1-fastq/md5sum.txt"
   ]
  },
  {
   "cell_type": "code",
   "execution_count": 10,
   "id": "395fd2b4-357a-42dc-9077-9ab2058b68d8",
   "metadata": {
    "tags": []
   },
   "outputs": [
    {
     "name": "stdout",
     "output_type": "stream",
     "text": [
      "0021704ca4f1dd04a00d708d1311db73  /srv/data/meg-m1-a2b/blumenthal-2014/chr7/1-fastq/SRX1589831_chr7_R1.fastq.gz\n",
      "558d9168b0c630a0182f60c63d931c1a  /srv/data/meg-m1-a2b/blumenthal-2014/chr7/1-fastq/SRX1589831_chr7_R2.fastq.gz\n",
      "e8e4e8c09b0adf38c57cacb1041a9a6a  /srv/data/meg-m1-a2b/blumenthal-2014/chr7/1-fastq/SRX1589834_chr7_R1.fastq.gz\n",
      "cf8fa4a75e6d4f2723ae8218a91e8d74  /srv/data/meg-m1-a2b/blumenthal-2014/chr7/1-fastq/SRX1589834_chr7_R2.fastq.gz\n",
      "4765f492b28bc17892e1112576d2723c  /srv/data/meg-m1-a2b/blumenthal-2014/chr7/1-fastq/SRX1589839_chr7_R1.fastq.gz\n",
      "1089bdb8566a7389a24f692ce95341d4  /srv/data/meg-m1-a2b/blumenthal-2014/chr7/1-fastq/SRX1589839_chr7_R2.fastq.gz\n"
     ]
    }
   ],
   "source": [
    "md5sum /srv/data/meg-m1-a2b/blumenthal-2014/chr7/1-fastq/*.fastq.gz"
   ]
  },
  {
   "cell_type": "markdown",
   "id": "ef84e256",
   "metadata": {},
   "source": [
    "## 2. Évaluation de la Qualité des Données Brutes\n",
    "\n",
    "Nous examinerons d'abord la qualité des données de séquençage brutes en utilisant FastQC.\n",
    "Nous commencerons par analyser le premier échantillon, puis nous utiliserons une commande pour traiter les 2 autres échantillons d'un seul coup. "
   ]
  },
  {
   "cell_type": "code",
   "execution_count": 5,
   "id": "a001b045-1338-44d1-89e4-e126c6c527cf",
   "metadata": {
    "collapsed": true,
    "jupyter": {
     "outputs_hidden": true
    },
    "tags": []
   },
   "outputs": [
    {
     "name": "stdout",
     "output_type": "stream",
     "text": [
      "FastQC v0.12.1\n",
      "\n",
      "            FastQC - A high throughput sequence QC analysis tool\n",
      "\n",
      "SYNOPSIS\n",
      "\n",
      "\tfastqc seqfile1 seqfile2 .. seqfileN\n",
      "\n",
      "    fastqc [-o output dir] [--(no)extract] [-f fastq|bam|sam] \n",
      "           [-c contaminant file] seqfile1 .. seqfileN\n",
      "\n",
      "DESCRIPTION\n",
      "\n",
      "    FastQC reads a set of sequence files and produces from each one a quality\n",
      "    control report consisting of a number of different modules, each one of \n",
      "    which will help to identify a different potential type of problem in your\n",
      "    data.\n",
      "    \n",
      "    If no files to process are specified on the command line then the program\n",
      "    will start as an interactive graphical application.  If files are provided\n",
      "    on the command line then the program will run with no user interaction\n",
      "    required.  In this mode it is suitable for inclusion into a standardised\n",
      "    analysis pipeline.\n",
      "    \n",
      "    The options for the program as as follows:\n",
      "    \n",
      "    -h --help       Print this help file and exit\n",
      "    \n",
      "    -v --version    Print the version of the program and exit\n",
      "    \n",
      "    -o --outdir     Create all output files in the specified output directory.\n",
      "                    Please note that this directory must exist as the program\n",
      "                    will not create it.  If this option is not set then the \n",
      "                    output file for each sequence file is created in the same\n",
      "                    directory as the sequence file which was processed.\n",
      "                    \n",
      "    --casava        Files come from raw casava output. Files in the same sample\n",
      "                    group (differing only by the group number) will be analysed\n",
      "                    as a set rather than individually. Sequences with the filter\n",
      "                    flag set in the header will be excluded from the analysis.\n",
      "                    Files must have the same names given to them by casava\n",
      "                    (including being gzipped and ending with .gz) otherwise they\n",
      "                    won't be grouped together correctly.\n",
      "                    \n",
      "    --nano          Files come from nanopore sequences and are in fast5 format. In\n",
      "                    this mode you can pass in directories to process and the program\n",
      "                    will take in all fast5 files within those directories and produce\n",
      "                    a single output file from the sequences found in all files.                    \n",
      "                    \n",
      "    --nofilter      If running with --casava then don't remove read flagged by\n",
      "                    casava as poor quality when performing the QC analysis.\n",
      "                   \n",
      "    --extract       If set then the zipped output file will be uncompressed in\n",
      "                    the same directory after it has been created. If --delete is \n",
      "                    also specified then the zip file will be removed after the \n",
      "                    contents are unzipped. \n",
      "                    \n",
      "    -j --java       Provides the full path to the java binary you want to use to\n",
      "                    launch fastqc. If not supplied then java is assumed to be in\n",
      "                    your path.\n",
      "                   \n",
      "    --noextract     Do not uncompress the output file after creating it.  You\n",
      "                    should set this option if you do not wish to uncompress\n",
      "                    the output when running in non-interactive mode.\n",
      "                    \n",
      "    --nogroup       Disable grouping of bases for reads >50bp. All reports will\n",
      "                    show data for every base in the read.  WARNING: Using this\n",
      "                    option will cause fastqc to crash and burn if you use it on\n",
      "                    really long reads, and your plots may end up a ridiculous size.\n",
      "                    You have been warned!\n",
      "                    \n",
      "    --min_length    Sets an artificial lower limit on the length of the sequence\n",
      "                    to be shown in the report.  As long as you set this to a value\n",
      "                    greater or equal to your longest read length then this will be\n",
      "                    the sequence length used to create your read groups.  This can\n",
      "                    be useful for making directly comaparable statistics from \n",
      "                    datasets with somewhat variable read lengths.\n",
      "\n",
      "    --dup_length    Sets a length to which the sequences will be truncated when \n",
      "                    defining them to be duplicates, affecting the duplication and\n",
      "                    overrepresented sequences plot.  This can be useful if you have\n",
      "                    long reads with higher levels of miscalls, or contamination with\n",
      "                    adapter dimers containing UMI sequences.\n",
      "\n",
      "                    \n",
      "    -f --format     Bypasses the normal sequence file format detection and\n",
      "                    forces the program to use the specified format.  Valid\n",
      "                    formats are bam,sam,bam_mapped,sam_mapped and fastq\n",
      "                    \n",
      "\n",
      "    --memory        Sets the base amount of memory, in Megabytes, used to process \n",
      "                    each file.  Defaults to 512MB.  You may need to increase this if\n",
      "                    you have a file with very long sequences in it.\n",
      "                \n",
      "    --svg           Save the graphs in the report in SVG format.\n",
      "\n",
      "    -t --threads    Specifies the number of files which can be processed\n",
      "                    simultaneously.  Each thread will be allocated 250MB of\n",
      "                    memory so you shouldn't run more threads than your\n",
      "                    available memory will cope with, and not more than\n",
      "                    6 threads on a 32 bit machine\n",
      "                  \n",
      "    -c              Specifies a non-default file which contains the list of\n",
      "    --contaminants  contaminants to screen overrepresented sequences against.\n",
      "                    The file must contain sets of named contaminants in the\n",
      "                    form name[tab]sequence.  Lines prefixed with a hash will\n",
      "                    be ignored.\n",
      "\n",
      "    -a              Specifies a non-default file which contains the list of\n",
      "    --adapters      adapter sequences which will be explicity searched against\n",
      "                    the library. The file must contain sets of named adapters\n",
      "                    in the form name[tab]sequence.  Lines prefixed with a hash\n",
      "                    will be ignored.\n",
      "                    \n",
      "    -l              Specifies a non-default file which contains a set of criteria\n",
      "    --limits        which will be used to determine the warn/error limits for the\n",
      "                    various modules.  This file can also be used to selectively \n",
      "                    remove some modules from the output all together.  The format\n",
      "                    needs to mirror the default limits.txt file found in the\n",
      "                    Configuration folder.\n",
      "                    \n",
      "   -k --kmers       Specifies the length of Kmer to look for in the Kmer content\n",
      "                    module. Specified Kmer length must be between 2 and 10. Default\n",
      "                    length is 7 if not specified.\n",
      "                    \n",
      "   -q --quiet       Suppress all progress messages on stdout and only report errors.\n",
      "   \n",
      "   -d --dir         Selects a directory to be used for temporary files written when\n",
      "                    generating report images. Defaults to system temp directory if\n",
      "                    not specified.\n",
      "                    \n",
      "BUGS\n",
      "\n",
      "    Any bugs in fastqc should be reported either to simon.andrews@babraham.ac.uk\n",
      "    or in www.bioinformatics.babraham.ac.uk/bugzilla/\n",
      "                   \n",
      "    \n"
     ]
    }
   ],
   "source": [
    "fastqc -v \n",
    "fastqc --help"
   ]
  },
  {
   "cell_type": "code",
   "execution_count": 11,
   "id": "6bc7e6e4",
   "metadata": {
    "tags": []
   },
   "outputs": [
    {
     "name": "stdout",
     "output_type": "stream",
     "text": [
      "application/gzip\n",
      "application/gzip\n",
      "Started analysis of SRX1589831_chr7_R1.fastq.gz\n",
      "Started analysis of SRX1589831_chr7_R2.fastq.gz\n",
      "Approx 5% complete for SRX1589831_chr7_R1.fastq.gz\n",
      "Approx 5% complete for SRX1589831_chr7_R2.fastq.gz\n",
      "Approx 10% complete for SRX1589831_chr7_R1.fastq.gz\n",
      "Approx 10% complete for SRX1589831_chr7_R2.fastq.gz\n",
      "Approx 15% complete for SRX1589831_chr7_R1.fastq.gz\n",
      "Approx 15% complete for SRX1589831_chr7_R2.fastq.gz\n",
      "Approx 20% complete for SRX1589831_chr7_R1.fastq.gz\n",
      "Approx 20% complete for SRX1589831_chr7_R2.fastq.gz\n",
      "Approx 25% complete for SRX1589831_chr7_R1.fastq.gz\n",
      "Approx 25% complete for SRX1589831_chr7_R2.fastq.gz\n",
      "Approx 30% complete for SRX1589831_chr7_R1.fastq.gz\n",
      "Approx 30% complete for SRX1589831_chr7_R2.fastq.gz\n",
      "Approx 35% complete for SRX1589831_chr7_R1.fastq.gz\n",
      "Approx 35% complete for SRX1589831_chr7_R2.fastq.gz\n",
      "Approx 40% complete for SRX1589831_chr7_R2.fastq.gz\n",
      "Approx 40% complete for SRX1589831_chr7_R1.fastq.gz\n",
      "Approx 45% complete for SRX1589831_chr7_R2.fastq.gz\n",
      "Approx 45% complete for SRX1589831_chr7_R1.fastq.gz\n",
      "Approx 50% complete for SRX1589831_chr7_R2.fastq.gz\n",
      "Approx 50% complete for SRX1589831_chr7_R1.fastq.gz\n",
      "Approx 55% complete for SRX1589831_chr7_R2.fastq.gz\n",
      "Approx 55% complete for SRX1589831_chr7_R1.fastq.gz\n",
      "Approx 60% complete for SRX1589831_chr7_R2.fastq.gz\n",
      "Approx 60% complete for SRX1589831_chr7_R1.fastq.gz\n",
      "Approx 65% complete for SRX1589831_chr7_R2.fastq.gz\n",
      "Approx 65% complete for SRX1589831_chr7_R1.fastq.gz\n",
      "Approx 70% complete for SRX1589831_chr7_R2.fastq.gz\n",
      "Approx 70% complete for SRX1589831_chr7_R1.fastq.gz\n",
      "Approx 75% complete for SRX1589831_chr7_R2.fastq.gz\n",
      "Approx 75% complete for SRX1589831_chr7_R1.fastq.gz\n",
      "Approx 80% complete for SRX1589831_chr7_R2.fastq.gz\n",
      "Approx 80% complete for SRX1589831_chr7_R1.fastq.gz\n",
      "Approx 85% complete for SRX1589831_chr7_R2.fastq.gz\n",
      "Approx 85% complete for SRX1589831_chr7_R1.fastq.gz\n",
      "Approx 90% complete for SRX1589831_chr7_R2.fastq.gz\n",
      "Approx 90% complete for SRX1589831_chr7_R1.fastq.gz\n",
      "Approx 95% complete for SRX1589831_chr7_R2.fastq.gz\n",
      "Approx 95% complete for SRX1589831_chr7_R1.fastq.gz\n",
      "Analysis complete for SRX1589831_chr7_R2.fastq.gz\n",
      "Analysis complete for SRX1589831_chr7_R1.fastq.gz\n"
     ]
    }
   ],
   "source": [
    "# Cellule 2 : Exécuter FastQC sur le premier échantillon\n",
    "\n",
    "fastqc -o ./rnaseq/results/1-fastqc -t 10 \\\n",
    "  $(ls /srv/data/meg-m1-a2b/blumenthal-2014/chr7/1-fastq/SRX1589831_chr7_R{1,2}.fastq.gz)"
   ]
  },
  {
   "cell_type": "code",
   "execution_count": 12,
   "id": "8f152b1a-fa31-4fff-9de4-35e7261466e6",
   "metadata": {
    "tags": []
   },
   "outputs": [
    {
     "name": "stdout",
     "output_type": "stream",
     "text": [
      "application/gzip\n",
      "application/gzip\n",
      "Started analysis of SRX1589831_chr7_R1.fastq.gz\n",
      "application/gzip\n",
      "application/gzip\n",
      "application/gzip\n",
      "application/gzip\n",
      "Started analysis of SRX1589831_chr7_R2.fastq.gz\n",
      "Approx 5% complete for SRX1589831_chr7_R1.fastq.gz\n",
      "Started analysis of SRX1589834_chr7_R1.fastq.gz\n",
      "Approx 5% complete for SRX1589831_chr7_R2.fastq.gz\n",
      "Approx 10% complete for SRX1589831_chr7_R1.fastq.gz\n",
      "Started analysis of SRX1589834_chr7_R2.fastq.gz\n",
      "Approx 5% complete for SRX1589834_chr7_R1.fastq.gz\n",
      "Approx 10% complete for SRX1589831_chr7_R2.fastq.gz\n",
      "Approx 15% complete for SRX1589831_chr7_R1.fastq.gz\n",
      "Started analysis of SRX1589839_chr7_R1.fastq.gz\n",
      "Approx 5% complete for SRX1589834_chr7_R2.fastq.gz\n",
      "Approx 15% complete for SRX1589831_chr7_R2.fastq.gz\n",
      "Approx 10% complete for SRX1589834_chr7_R1.fastq.gz\n",
      "Approx 5% complete for SRX1589839_chr7_R1.fastq.gz\n",
      "Approx 20% complete for SRX1589831_chr7_R1.fastq.gz\n",
      "Started analysis of SRX1589839_chr7_R2.fastq.gz\n",
      "Approx 10% complete for SRX1589834_chr7_R2.fastq.gz\n",
      "Approx 20% complete for SRX1589831_chr7_R2.fastq.gz\n",
      "Approx 15% complete for SRX1589834_chr7_R1.fastq.gz\n",
      "Approx 10% complete for SRX1589839_chr7_R1.fastq.gz\n",
      "Approx 5% complete for SRX1589839_chr7_R2.fastq.gz\n",
      "Approx 25% complete for SRX1589831_chr7_R1.fastq.gz\n",
      "Approx 25% complete for SRX1589831_chr7_R2.fastq.gz\n",
      "Approx 15% complete for SRX1589834_chr7_R2.fastq.gz\n",
      "Approx 15% complete for SRX1589839_chr7_R1.fastq.gz\n",
      "Approx 10% complete for SRX1589839_chr7_R2.fastq.gz\n",
      "Approx 30% complete for SRX1589831_chr7_R1.fastq.gz\n",
      "Approx 20% complete for SRX1589834_chr7_R1.fastq.gz\n",
      "Approx 20% complete for SRX1589839_chr7_R1.fastq.gz\n",
      "Approx 30% complete for SRX1589831_chr7_R2.fastq.gz\n",
      "Approx 15% complete for SRX1589839_chr7_R2.fastq.gz\n",
      "Approx 20% complete for SRX1589834_chr7_R2.fastq.gz\n",
      "Approx 35% complete for SRX1589831_chr7_R1.fastq.gz\n",
      "Approx 25% complete for SRX1589839_chr7_R1.fastq.gz\n",
      "Approx 25% complete for SRX1589834_chr7_R1.fastq.gz\n",
      "Approx 20% complete for SRX1589839_chr7_R2.fastq.gz\n",
      "Approx 35% complete for SRX1589831_chr7_R2.fastq.gz\n",
      "Approx 25% complete for SRX1589834_chr7_R2.fastq.gz\n",
      "Approx 40% complete for SRX1589831_chr7_R1.fastq.gz\n",
      "Approx 30% complete for SRX1589839_chr7_R1.fastq.gz\n",
      "Approx 25% complete for SRX1589839_chr7_R2.fastq.gz\n",
      "Approx 40% complete for SRX1589831_chr7_R2.fastq.gz\n",
      "Approx 30% complete for SRX1589834_chr7_R1.fastq.gz\n",
      "Approx 30% complete for SRX1589834_chr7_R2.fastq.gz\n",
      "Approx 30% complete for SRX1589839_chr7_R2.fastq.gz\n",
      "Approx 35% complete for SRX1589839_chr7_R1.fastq.gz\n",
      "Approx 45% complete for SRX1589831_chr7_R1.fastq.gz\n",
      "Approx 45% complete for SRX1589831_chr7_R2.fastq.gz\n",
      "Approx 35% complete for SRX1589834_chr7_R1.fastq.gz\n",
      "Approx 35% complete for SRX1589839_chr7_R2.fastq.gz\n",
      "Approx 40% complete for SRX1589839_chr7_R1.fastq.gz\n",
      "Approx 35% complete for SRX1589834_chr7_R2.fastq.gz\n",
      "Approx 50% complete for SRX1589831_chr7_R1.fastq.gz\n",
      "Approx 50% complete for SRX1589831_chr7_R2.fastq.gz\n",
      "Approx 40% complete for SRX1589839_chr7_R2.fastq.gz\n",
      "Approx 45% complete for SRX1589839_chr7_R1.fastq.gz\n",
      "Approx 40% complete for SRX1589834_chr7_R1.fastq.gz\n",
      "Approx 55% complete for SRX1589831_chr7_R1.fastq.gz\n",
      "Approx 55% complete for SRX1589831_chr7_R2.fastq.gz\n",
      "Approx 45% complete for SRX1589839_chr7_R2.fastq.gz\n",
      "Approx 40% complete for SRX1589834_chr7_R2.fastq.gz\n",
      "Approx 50% complete for SRX1589839_chr7_R1.fastq.gz\n",
      "Approx 60% complete for SRX1589831_chr7_R1.fastq.gz\n",
      "Approx 60% complete for SRX1589831_chr7_R2.fastq.gz\n",
      "Approx 50% complete for SRX1589839_chr7_R2.fastq.gz\n",
      "Approx 45% complete for SRX1589834_chr7_R1.fastq.gz\n",
      "Approx 55% complete for SRX1589839_chr7_R1.fastq.gz\n",
      "Approx 55% complete for SRX1589839_chr7_R2.fastq.gz\n",
      "Approx 65% complete for SRX1589831_chr7_R2.fastq.gz\n",
      "Approx 65% complete for SRX1589831_chr7_R1.fastq.gz\n",
      "Approx 45% complete for SRX1589834_chr7_R2.fastq.gz\n",
      "Approx 50% complete for SRX1589834_chr7_R1.fastq.gz\n",
      "Approx 60% complete for SRX1589839_chr7_R1.fastq.gz\n",
      "Approx 60% complete for SRX1589839_chr7_R2.fastq.gz\n",
      "Approx 70% complete for SRX1589831_chr7_R2.fastq.gz\n",
      "Approx 70% complete for SRX1589831_chr7_R1.fastq.gz\n",
      "Approx 65% complete for SRX1589839_chr7_R2.fastq.gz\n",
      "Approx 50% complete for SRX1589834_chr7_R2.fastq.gz\n",
      "Approx 75% complete for SRX1589831_chr7_R2.fastq.gz\n",
      "Approx 65% complete for SRX1589839_chr7_R1.fastq.gz\n",
      "Approx 75% complete for SRX1589831_chr7_R1.fastq.gz\n",
      "Approx 55% complete for SRX1589834_chr7_R1.fastq.gz\n",
      "Approx 70% complete for SRX1589839_chr7_R2.fastq.gz\n",
      "Approx 70% complete for SRX1589839_chr7_R1.fastq.gz\n",
      "Approx 80% complete for SRX1589831_chr7_R2.fastq.gz\n",
      "Approx 80% complete for SRX1589831_chr7_R1.fastq.gz\n",
      "Approx 55% complete for SRX1589834_chr7_R2.fastq.gz\n",
      "Approx 75% complete for SRX1589839_chr7_R2.fastq.gz\n",
      "Approx 60% complete for SRX1589834_chr7_R1.fastq.gz\n",
      "Approx 75% complete for SRX1589839_chr7_R1.fastq.gz\n",
      "Approx 85% complete for SRX1589831_chr7_R2.fastq.gz\n",
      "Approx 85% complete for SRX1589831_chr7_R1.fastq.gz\n",
      "Approx 80% complete for SRX1589839_chr7_R2.fastq.gz\n",
      "Approx 60% complete for SRX1589834_chr7_R2.fastq.gz\n",
      "Approx 65% complete for SRX1589834_chr7_R1.fastq.gz\n",
      "Approx 80% complete for SRX1589839_chr7_R1.fastq.gz\n",
      "Approx 90% complete for SRX1589831_chr7_R2.fastq.gz\n",
      "Approx 90% complete for SRX1589831_chr7_R1.fastq.gz\n",
      "Approx 85% complete for SRX1589839_chr7_R2.fastq.gz\n",
      "Approx 85% complete for SRX1589839_chr7_R1.fastq.gz\n",
      "Approx 65% complete for SRX1589834_chr7_R2.fastq.gz\n",
      "Approx 95% complete for SRX1589831_chr7_R2.fastq.gz\n",
      "Approx 70% complete for SRX1589834_chr7_R1.fastq.gz\n",
      "Approx 90% complete for SRX1589839_chr7_R2.fastq.gz\n",
      "Approx 95% complete for SRX1589831_chr7_R1.fastq.gz\n",
      "Approx 90% complete for SRX1589839_chr7_R1.fastq.gz\n",
      "Analysis complete for SRX1589831_chr7_R2.fastq.gz\n",
      "Approx 95% complete for SRX1589839_chr7_R2.fastq.gz\n",
      "Analysis complete for SRX1589831_chr7_R1.fastq.gz\n",
      "Approx 70% complete for SRX1589834_chr7_R2.fastq.gz\n",
      "Approx 75% complete for SRX1589834_chr7_R1.fastq.gz\n",
      "Approx 95% complete for SRX1589839_chr7_R1.fastq.gz\n",
      "Analysis complete for SRX1589839_chr7_R2.fastq.gz\n",
      "Analysis complete for SRX1589839_chr7_R1.fastq.gz\n",
      "Approx 75% complete for SRX1589834_chr7_R2.fastq.gz\n",
      "Approx 80% complete for SRX1589834_chr7_R1.fastq.gz\n",
      "Approx 85% complete for SRX1589834_chr7_R1.fastq.gz\n",
      "Approx 80% complete for SRX1589834_chr7_R2.fastq.gz\n",
      "Approx 90% complete for SRX1589834_chr7_R1.fastq.gz\n",
      "Approx 85% complete for SRX1589834_chr7_R2.fastq.gz\n",
      "Approx 95% complete for SRX1589834_chr7_R1.fastq.gz\n",
      "Approx 90% complete for SRX1589834_chr7_R2.fastq.gz\n",
      "Analysis complete for SRX1589834_chr7_R1.fastq.gz\n",
      "Approx 95% complete for SRX1589834_chr7_R2.fastq.gz\n",
      "Analysis complete for SRX1589834_chr7_R2.fastq.gz\n"
     ]
    }
   ],
   "source": [
    "# Cellule 3 : Commande pour exécuter FastQC sur tous les échantillons\n",
    "\n",
    "fastqc -o ./rnaseq/results/1-fastqc -t 10 \\\n",
    "  /srv/data/meg-m1-a2b/blumenthal-2014/chr7/1-fastq/*.fastq.gz"
   ]
  },
  {
   "cell_type": "code",
   "execution_count": 13,
   "id": "afc69931-ace7-4bef-9093-6383d24e768b",
   "metadata": {
    "tags": []
   },
   "outputs": [
    {
     "name": "stdout",
     "output_type": "stream",
     "text": [
      "\n",
      "  \u001b[34m/\u001b[0m\u001b[32m/\u001b[0m\u001b[31m/\u001b[0m \u001b]8;id=826113;https://multiqc.info\u001b\\\u001b[1mMultiQC\u001b[0m\u001b]8;;\u001b\\ 🔍 \u001b[2m| v1.13\u001b[0m\n",
      "\n",
      "\u001b[34m|           multiqc\u001b[0m | \u001b[33mMultiQC Version v1.31 now available!\u001b[0m\n",
      "\u001b[34m|           multiqc\u001b[0m | Report title: 1-fastqc-\n",
      "\u001b[34m|           multiqc\u001b[0m | Search path : /srv/home/scaburet/meg-m1-ue5-unix2-testmapping/rnaseq/results/1-fastqc\n",
      "\u001b[2K\u001b[34m|\u001b[0m         \u001b[34msearching\u001b[0m | \u001b[90m━━━━━━━━━━━━━━━━━━━━━━━━━━━━━━━━━━━━━━━━\u001b[0m \u001b[35m100%\u001b[0m \u001b[32m12/12\u001b[0m  \u001b[0m0m  \n",
      "\u001b[?25h\u001b[34m|            fastqc\u001b[0m | Found 6 reports\n",
      "\u001b[34m|           multiqc\u001b[0m | Compressing plot data\n",
      "\u001b[34m|           multiqc\u001b[0m | Report      : rnaseq/results/0-multiqc/1-fastqc-_multiqc_report.html\n",
      "\u001b[34m|           multiqc\u001b[0m | Data        : rnaseq/results/0-multiqc/1-fastqc-_multiqc_report_data\n",
      "\u001b[34m|           multiqc\u001b[0m | MultiQC complete\n"
     ]
    }
   ],
   "source": [
    "# Cellule 4\n",
    "\n",
    "multiqc -f -o rnaseq/results/0-multiqc \\\n",
    "    rnaseq/results/1-fastqc/ \\\n",
    "    --interactive \\\n",
    "    --title \"1-fastqc-\" \\\n",
    "    --comment \"Rapport MultiQC sur les 3 échantillons\""
   ]
  },
  {
   "cell_type": "markdown",
   "id": "88d7fb16",
   "metadata": {},
   "source": [
    "## 3. Prétraitement des Reads\n",
    "\n",
    "<div class=\"alert alert-info\">\n",
    "Nous utilisons fastp pour :  <br>\n",
    "- Élaguer les bases de faible qualité  <br>\n",
    "- Supprimer les séquences d'adaptateurs  <br>\n",
    "- Filtrer les reads de mauvaise qualité  <br>\n",
    "</div>"
   ]
  },
  {
   "cell_type": "code",
   "execution_count": 7,
   "id": "a009a7b4-7688-4dd2-b472-741b71056d14",
   "metadata": {
    "tags": []
   },
   "outputs": [
    {
     "name": "stdout",
     "output_type": "stream",
     "text": [
      "fastp 0.23.1\n",
      "usage: fastp [options] ... \n",
      "options:\n",
      "  -i, --in1                            read1 input file name (string [=])\n",
      "  -o, --out1                           read1 output file name (string [=])\n",
      "  -I, --in2                            read2 input file name (string [=])\n",
      "  -O, --out2                           read2 output file name (string [=])\n",
      "      --unpaired1                      for PE input, if read1 passed QC but read2 not, it will be written to unpaired1. Default is to discard it. (string [=])\n",
      "      --unpaired2                      for PE input, if read2 passed QC but read1 not, it will be written to unpaired2. If --unpaired2 is same as --unpaired1 (default mode), both unpaired reads will be written to this same file. (string [=])\n",
      "      --overlapped_out                 for each read pair, output the overlapped region if it has no any mismatched base. (string [=])\n",
      "      --failed_out                     specify the file to store reads that cannot pass the filters. (string [=])\n",
      "  -m, --merge                          for paired-end input, merge each pair of reads into a single read if they are overlapped. The merged reads will be written to the file given by --merged_out, the unmerged reads will be written to the files specified by --out1 and --out2. The merging mode is disabled by default.\n",
      "      --merged_out                     in the merging mode, specify the file name to store merged output, or specify --stdout to stream the merged output (string [=])\n",
      "      --include_unmerged               in the merging mode, write the unmerged or unpaired reads to the file specified by --merge. Disabled by default.\n",
      "  -6, --phred64                        indicate the input is using phred64 scoring (it'll be converted to phred33, so the output will still be phred33)\n",
      "  -z, --compression                    compression level for gzip output (1 ~ 9). 1 is fastest, 9 is smallest, default is 4. (int [=4])\n",
      "      --stdin                          input from STDIN. If the STDIN is interleaved paired-end FASTQ, please also add --interleaved_in.\n",
      "      --stdout                         stream passing-filters reads to STDOUT. This option will result in interleaved FASTQ output for paired-end output. Disabled by default.\n",
      "      --interleaved_in                 indicate that <in1> is an interleaved FASTQ which contains both read1 and read2. Disabled by default.\n",
      "      --reads_to_process               specify how many reads/pairs to be processed. Default 0 means process all reads. (int [=0])\n",
      "      --dont_overwrite                 don't overwrite existing files. Overwritting is allowed by default.\n",
      "      --fix_mgi_id                     the MGI FASTQ ID format is not compatible with many BAM operation tools, enable this option to fix it.\n",
      "  -V, --verbose                        output verbose log information (i.e. when every 1M reads are processed).\n",
      "  -A, --disable_adapter_trimming       adapter trimming is enabled by default. If this option is specified, adapter trimming is disabled\n",
      "  -a, --adapter_sequence               the adapter for read1. For SE data, if not specified, the adapter will be auto-detected. For PE data, this is used if R1/R2 are found not overlapped. (string [=auto])\n",
      "      --adapter_sequence_r2            the adapter for read2 (PE data only). This is used if R1/R2 are found not overlapped. If not specified, it will be the same as <adapter_sequence> (string [=auto])\n",
      "      --adapter_fasta                  specify a FASTA file to trim both read1 and read2 (if PE) by all the sequences in this FASTA file (string [=])\n",
      "      --detect_adapter_for_pe          by default, the auto-detection for adapter is for SE data input only, turn on this option to enable it for PE data.\n",
      "  -f, --trim_front1                    trimming how many bases in front for read1, default is 0 (int [=0])\n",
      "  -t, --trim_tail1                     trimming how many bases in tail for read1, default is 0 (int [=0])\n",
      "  -b, --max_len1                       if read1 is longer than max_len1, then trim read1 at its tail to make it as long as max_len1. Default 0 means no limitation (int [=0])\n",
      "  -F, --trim_front2                    trimming how many bases in front for read2. If it's not specified, it will follow read1's settings (int [=0])\n",
      "  -T, --trim_tail2                     trimming how many bases in tail for read2. If it's not specified, it will follow read1's settings (int [=0])\n",
      "  -B, --max_len2                       if read2 is longer than max_len2, then trim read2 at its tail to make it as long as max_len2. Default 0 means no limitation. If it's not specified, it will follow read1's settings (int [=0])\n",
      "  -D, --dedup                          enable deduplication to drop the duplicated reads/pairs\n",
      "      --dup_calc_accuracy              accuracy level to calculate duplication (1~6), higher level uses more memory (1G, 2G, 4G, 8G, 16G, 24G). Default 1 for no-dedup mode, and 3 for dedup mode. (int [=0])\n",
      "      --dont_eval_duplication          don't evaluate duplication rate to save time and use less memory.\n",
      "  -g, --trim_poly_g                    force polyG tail trimming, by default trimming is automatically enabled for Illumina NextSeq/NovaSeq data\n",
      "      --poly_g_min_len                 the minimum length to detect polyG in the read tail. 10 by default. (int [=10])\n",
      "  -G, --disable_trim_poly_g            disable polyG tail trimming, by default trimming is automatically enabled for Illumina NextSeq/NovaSeq data\n",
      "  -x, --trim_poly_x                    enable polyX trimming in 3' ends.\n",
      "      --poly_x_min_len                 the minimum length to detect polyX in the read tail. 10 by default. (int [=10])\n",
      "  -5, --cut_front                      move a sliding window from front (5') to tail, drop the bases in the window if its mean quality < threshold, stop otherwise.\n",
      "  -3, --cut_tail                       move a sliding window from tail (3') to front, drop the bases in the window if its mean quality < threshold, stop otherwise.\n",
      "  -r, --cut_right                      move a sliding window from front to tail, if meet one window with mean quality < threshold, drop the bases in the window and the right part, and then stop.\n",
      "  -W, --cut_window_size                the window size option shared by cut_front, cut_tail or cut_sliding. Range: 1~1000, default: 4 (int [=4])\n",
      "  -M, --cut_mean_quality               the mean quality requirement option shared by cut_front, cut_tail or cut_sliding. Range: 1~36 default: 20 (Q20) (int [=20])\n",
      "      --cut_front_window_size          the window size option of cut_front, default to cut_window_size if not specified (int [=4])\n",
      "      --cut_front_mean_quality         the mean quality requirement option for cut_front, default to cut_mean_quality if not specified (int [=20])\n",
      "      --cut_tail_window_size           the window size option of cut_tail, default to cut_window_size if not specified (int [=4])\n",
      "      --cut_tail_mean_quality          the mean quality requirement option for cut_tail, default to cut_mean_quality if not specified (int [=20])\n",
      "      --cut_right_window_size          the window size option of cut_right, default to cut_window_size if not specified (int [=4])\n",
      "      --cut_right_mean_quality         the mean quality requirement option for cut_right, default to cut_mean_quality if not specified (int [=20])\n",
      "  -Q, --disable_quality_filtering      quality filtering is enabled by default. If this option is specified, quality filtering is disabled\n",
      "  -q, --qualified_quality_phred        the quality value that a base is qualified. Default 15 means phred quality >=Q15 is qualified. (int [=15])\n",
      "  -u, --unqualified_percent_limit      how many percents of bases are allowed to be unqualified (0~100). Default 40 means 40% (int [=40])\n",
      "  -n, --n_base_limit                   if one read's number of N base is >n_base_limit, then this read/pair is discarded. Default is 5 (int [=5])\n",
      "  -e, --average_qual                   if one read's average quality score <avg_qual, then this read/pair is discarded. Default 0 means no requirement (int [=0])\n",
      "  -L, --disable_length_filtering       length filtering is enabled by default. If this option is specified, length filtering is disabled\n",
      "  -l, --length_required                reads shorter than length_required will be discarded, default is 15. (int [=15])\n",
      "      --length_limit                   reads longer than length_limit will be discarded, default 0 means no limitation. (int [=0])\n",
      "  -y, --low_complexity_filter          enable low complexity filter. The complexity is defined as the percentage of base that is different from its next base (base[i] != base[i+1]).\n",
      "  -Y, --complexity_threshold           the threshold for low complexity filter (0~100). Default is 30, which means 30% complexity is required. (int [=30])\n",
      "      --filter_by_index1               specify a file contains a list of barcodes of index1 to be filtered out, one barcode per line (string [=])\n",
      "      --filter_by_index2               specify a file contains a list of barcodes of index2 to be filtered out, one barcode per line (string [=])\n",
      "      --filter_by_index_threshold      the allowed difference of index barcode for index filtering, default 0 means completely identical. (int [=0])\n",
      "  -c, --correction                     enable base correction in overlapped regions (only for PE data), default is disabled\n",
      "      --overlap_len_require            the minimum length to detect overlapped region of PE reads. This will affect overlap analysis based PE merge, adapter trimming and correction. 30 by default. (int [=30])\n",
      "      --overlap_diff_limit             the maximum number of mismatched bases to detect overlapped region of PE reads. This will affect overlap analysis based PE merge, adapter trimming and correction. 5 by default. (int [=5])\n",
      "      --overlap_diff_percent_limit     the maximum percentage of mismatched bases to detect overlapped region of PE reads. This will affect overlap analysis based PE merge, adapter trimming and correction. Default 20 means 20%. (int [=20])\n",
      "  -U, --umi                            enable unique molecular identifier (UMI) preprocessing\n",
      "      --umi_loc                        specify the location of UMI, can be (index1/index2/read1/read2/per_index/per_read, default is none (string [=])\n",
      "      --umi_len                        if the UMI is in read1/read2, its length should be provided (int [=0])\n",
      "      --umi_prefix                     if specified, an underline will be used to connect prefix and UMI (i.e. prefix=UMI, UMI=AATTCG, final=UMI_AATTCG). No prefix by default (string [=])\n",
      "      --umi_skip                       if the UMI is in read1/read2, fastp can skip several bases following UMI, default is 0 (int [=0])\n",
      "  -p, --overrepresentation_analysis    enable overrepresented sequence analysis.\n",
      "  -P, --overrepresentation_sampling    one in (--overrepresentation_sampling) reads will be computed for overrepresentation analysis (1~10000), smaller is slower, default is 20. (int [=20])\n",
      "  -j, --json                           the json format report file name (string [=fastp.json])\n",
      "  -h, --html                           the html format report file name (string [=fastp.html])\n",
      "  -R, --report_title                   should be quoted with ' or \", default is \"fastp report\" (string [=fastp report])\n",
      "  -w, --thread                         worker thread number, default is 3 (int [=3])\n",
      "  -s, --split                          split output by limiting total split file number with this option (2~999), a sequential number prefix will be added to output name ( 0001.out.fq, 0002.out.fq...), disabled by default (int [=0])\n",
      "  -S, --split_by_lines                 split output by limiting lines of each file with this option(>=1000), a sequential number prefix will be added to output name ( 0001.out.fq, 0002.out.fq...), disabled by default (long [=0])\n",
      "  -d, --split_prefix_digits            the digits for the sequential number padding (1~10), default is 4, so the filename will be padded as 0001.xxx, 0 to disable padding (int [=4])\n",
      "      --cut_by_quality5                DEPRECATED, use --cut_front instead.\n",
      "      --cut_by_quality3                DEPRECATED, use --cut_tail instead.\n",
      "      --cut_by_quality_aggressive      DEPRECATED, use --cut_right instead.\n",
      "      --discard_unmerged               DEPRECATED, no effect now, see the introduction for merging.\n",
      "  -?, --help                           print this message\n"
     ]
    }
   ],
   "source": [
    "fastp -v\n",
    "fastp --help"
   ]
  },
  {
   "cell_type": "code",
   "execution_count": 14,
   "id": "80fc8f04-9f14-4c81-80ef-51f1487689d0",
   "metadata": {
    "tags": []
   },
   "outputs": [
    {
     "name": "stdout",
     "output_type": "stream",
     "text": [
      "total 481M\n",
      "-rw-rw-r--+ 1 scaburet 1012 372 Sep  9 15:47 md5sum.txt\n",
      "-rw-rw-r--+ 1 scaburet 1012 14K Sep  3 17:18 samples-Blumenthal2014.tsv\n",
      "-rw-rw-r--+ 1 scaburet 1012 80M Sep  9 15:46 SRX1589831_chr7_R1.fastq.gz\n",
      "-rw-rw-r--+ 1 scaburet 1012 82M Sep  9 15:46 SRX1589831_chr7_R2.fastq.gz\n",
      "-rw-rw-r--+ 1 scaburet 1012 90M Sep  9 15:46 SRX1589834_chr7_R1.fastq.gz\n",
      "-rw-rw-r--+ 1 scaburet 1012 92M Sep  9 15:46 SRX1589834_chr7_R2.fastq.gz\n",
      "-rw-rw-r--+ 1 scaburet 1012 69M Sep  9 15:47 SRX1589839_chr7_R1.fastq.gz\n",
      "-rw-rw-r--+ 1 scaburet 1012 70M Sep  9 15:47 SRX1589839_chr7_R2.fastq.gz\n"
     ]
    }
   ],
   "source": [
    "ls -lh /srv/data/meg-m1-a2b/blumenthal-2014/chr7/1-fastq/"
   ]
  },
  {
   "cell_type": "code",
   "execution_count": 15,
   "id": "2a7414cf",
   "metadata": {},
   "outputs": [
    {
     "name": "stdout",
     "output_type": "stream",
     "text": [
      "Traitement de SRX1589831...\n",
      "Detecting adapter sequence for read1...\n",
      "No adapter detected for read1\n",
      "\n",
      "Detecting adapter sequence for read2...\n",
      "GGATTTAGCTCAGTGGTAGAGCGCTTGCCTAGCAAGCGCAAGGCCCTGGGTTCGGTCCT\n",
      "\n",
      "Read1 before filtering:\n",
      "total reads: 1984129\n",
      "total bases: 96301751\n",
      "Q20 bases: 95705016(99.3803%)\n",
      "Q30 bases: 92864786(96.431%)\n",
      "\n",
      "Read2 before filtering:\n",
      "total reads: 1984129\n",
      "total bases: 95521970\n",
      "Q20 bases: 94798111(99.2422%)\n",
      "Q30 bases: 91284912(95.5643%)\n",
      "\n",
      "Read1 after filtering:\n",
      "total reads: 1934291\n",
      "total bases: 93880210\n",
      "Q20 bases: 93294457(99.3761%)\n",
      "Q30 bases: 90513292(96.4136%)\n",
      "\n",
      "Read2 after filtering:\n",
      "total reads: 1934291\n",
      "total bases: 93033769\n",
      "Q20 bases: 92324215(99.2373%)\n",
      "Q30 bases: 88886934(95.5427%)\n",
      "\n",
      "Filtering result:\n",
      "reads passed filter: 3954578\n",
      "reads failed due to low quality: 0\n",
      "reads failed due to too many N: 0\n",
      "reads failed due to too short: 13680\n",
      "reads with adapter trimmed: 9330\n",
      "bases trimmed due to adapters: 379947\n",
      "\n",
      "Duplication rate: 2.40105%\n",
      "\n",
      "Insert size peak (evaluated by paired-end reads): 50\n",
      "\n",
      "JSON report: ./rnaseq/results/2-fastpfq/SRX1589831_chr7_report.fastp.json\n",
      "HTML report: ./rnaseq/results/2-fastpfq/SRX1589831_chr7_report.fastp.html\n",
      "\n",
      "fastp --in1 /srv/data/meg-m1-a2b/blumenthal-2014/chr7/1-fastq/SRX1589831_chr7_R1.fastq.gz --in2 /srv/data/meg-m1-a2b/blumenthal-2014/chr7/1-fastq/SRX1589831_chr7_R2.fastq.gz --out1 ./rnaseq/results/2-fastpfq/SRX1589831_chr7_R1.fastp.fastq.gz --out2 ./rnaseq/results/2-fastpfq/SRX1589831_chr7_R2.fastp.fastq.gz --detect_adapter_for_pe --dedup --dup_calc_accuracy 3 -p -P 500 --html ./rnaseq/results/2-fastpfq/SRX1589831_chr7_report.fastp.html --json ./rnaseq/results/2-fastpfq/SRX1589831_chr7_report.fastp.json --thread 3 \n",
      "fastp v0.23.1, time used: 18 seconds\n"
     ]
    }
   ],
   "source": [
    "# Cellule 4 : Traiter le premier échantillon avec fastp\n",
    "\n",
    "echo \"Traitement de SRX1589831...\"\n",
    "fastp \\\n",
    "    --in1 /srv/data/meg-m1-a2b/blumenthal-2014/chr7/1-fastq/SRX1589831_chr7_R1.fastq.gz \\\n",
    "    --in2 /srv/data/meg-m1-a2b/blumenthal-2014/chr7/1-fastq/SRX1589831_chr7_R2.fastq.gz \\\n",
    "    --out1 ./rnaseq/results/2-fastpfq/SRX1589831_chr7_R1.fastp.fastq.gz \\\n",
    "    --out2 ./rnaseq/results/2-fastpfq/SRX1589831_chr7_R2.fastp.fastq.gz \\\n",
    "    --detect_adapter_for_pe \\\n",
    "    --dedup \\\n",
    "    --dup_calc_accuracy 3 \\\n",
    "    -p -P 500 \\\n",
    "    --html ./rnaseq/results/2-fastpfq/SRX1589831_chr7_report.fastp.html \\\n",
    "    --json ./rnaseq/results/2-fastpfq/SRX1589831_chr7_report.fastp.json \\\n",
    "    --thread 3\n"
   ]
  },
  {
   "cell_type": "code",
   "execution_count": 16,
   "id": "5bb7b64d-22b9-44f9-9776-8ffdb9bbbfa1",
   "metadata": {
    "tags": []
   },
   "outputs": [
    {
     "name": "stdout",
     "output_type": "stream",
     "text": [
      "Traitement de SRX1589831_chr7...\n",
      "Detecting adapter sequence for read1...\n",
      "No adapter detected for read1\n",
      "\n",
      "Detecting adapter sequence for read2...\n",
      "GGATTTAGCTCAGTGGTAGAGCGCTTGCCTAGCAAGCGCAAGGCCCTGGGTTCGGTCCT\n",
      "\n",
      "Read1 before filtering:\n",
      "total reads: 1984129\n",
      "total bases: 96301751\n",
      "Q20 bases: 95705016(99.3803%)\n",
      "Q30 bases: 92864786(96.431%)\n",
      "\n",
      "Read2 before filtering:\n",
      "total reads: 1984129\n",
      "total bases: 95521970\n",
      "Q20 bases: 94798111(99.2422%)\n",
      "Q30 bases: 91284912(95.5643%)\n",
      "\n",
      "Read1 after filtering:\n",
      "total reads: 1934291\n",
      "total bases: 93880232\n",
      "Q20 bases: 93294457(99.376%)\n",
      "Q30 bases: 90513322(96.4136%)\n",
      "\n",
      "Read2 after filtering:\n",
      "total reads: 1934291\n",
      "total bases: 93033788\n",
      "Q20 bases: 92324231(99.2373%)\n",
      "Q30 bases: 88886985(95.5427%)\n",
      "\n",
      "Filtering result:\n",
      "reads passed filter: 3954578\n",
      "reads failed due to low quality: 0\n",
      "reads failed due to too many N: 0\n",
      "reads failed due to too short: 13680\n",
      "reads with adapter trimmed: 9330\n",
      "bases trimmed due to adapters: 379947\n",
      "\n",
      "Duplication rate: 2.40105%\n",
      "\n",
      "Insert size peak (evaluated by paired-end reads): 50\n",
      "\n",
      "JSON report: rnaseq/results/2-fastpfq/SRX1589831_chr7_report.fastp.json\n",
      "HTML report: rnaseq/results/2-fastpfq/SRX1589831_chr7_report.fastp.html\n",
      "\n",
      "fastp -i /srv/data/meg-m1-a2b/blumenthal-2014/chr7/1-fastq/SRX1589831_chr7_R1.fastq.gz -I /srv/data/meg-m1-a2b/blumenthal-2014/chr7/1-fastq/SRX1589831_chr7_R2.fastq.gz -o rnaseq/results/2-fastpfq/SRX1589831_chr7_R1_fastp.fastq.gz -O rnaseq/results/2-fastpfq/SRX1589831_chr7_R2_fastp.fastq.gz --detect_adapter_for_pe --dedup --dup_calc_accuracy 3 -p -P 500 --html rnaseq/results/2-fastpfq/SRX1589831_chr7_report.fastp.html --json rnaseq/results/2-fastpfq/SRX1589831_chr7_report.fastp.json --thread 3 \n",
      "fastp v0.23.1, time used: 18 seconds\n",
      "Traitement de SRX1589834_chr7...\n",
      "Detecting adapter sequence for read1...\n",
      "No adapter detected for read1\n",
      "\n",
      "Detecting adapter sequence for read2...\n",
      "GGATTTAGCTCAGTGGTAGAGCGCTTGCCTAGCAAGCGCAAGGCCCTGGGTTCGGTCCTC\n",
      "\n",
      "Read1 before filtering:\n",
      "total reads: 2309828\n",
      "total bases: 112852689\n",
      "Q20 bases: 112388380(99.5886%)\n",
      "Q30 bases: 109817943(97.3109%)\n",
      "\n",
      "Read2 before filtering:\n",
      "total reads: 2309828\n",
      "total bases: 112388607\n",
      "Q20 bases: 111835071(99.5075%)\n",
      "Q30 bases: 108679421(96.6997%)\n",
      "\n",
      "Read1 after filtering:\n",
      "total reads: 2227214\n",
      "total bases: 108830643\n",
      "Q20 bases: 108377929(99.584%)\n",
      "Q30 bases: 105879582(97.2884%)\n",
      "\n",
      "Read2 after filtering:\n",
      "total reads: 2227214\n",
      "total bases: 108260435\n",
      "Q20 bases: 107721838(99.5025%)\n",
      "Q30 bases: 104657999(96.6724%)\n",
      "\n",
      "Filtering result:\n",
      "reads passed filter: 4598196\n",
      "reads failed due to low quality: 0\n",
      "reads failed due to too many N: 0\n",
      "reads failed due to too short: 21460\n",
      "reads with adapter trimmed: 13624\n",
      "bases trimmed due to adapters: 602410\n",
      "\n",
      "Duplication rate: 3.4768%\n",
      "\n",
      "Insert size peak (evaluated by paired-end reads): 66\n",
      "\n",
      "JSON report: rnaseq/results/2-fastpfq/SRX1589834_chr7_report.fastp.json\n",
      "HTML report: rnaseq/results/2-fastpfq/SRX1589834_chr7_report.fastp.html\n",
      "\n",
      "fastp -i /srv/data/meg-m1-a2b/blumenthal-2014/chr7/1-fastq/SRX1589834_chr7_R1.fastq.gz -I /srv/data/meg-m1-a2b/blumenthal-2014/chr7/1-fastq/SRX1589834_chr7_R2.fastq.gz -o rnaseq/results/2-fastpfq/SRX1589834_chr7_R1_fastp.fastq.gz -O rnaseq/results/2-fastpfq/SRX1589834_chr7_R2_fastp.fastq.gz --detect_adapter_for_pe --dedup --dup_calc_accuracy 3 -p -P 500 --html rnaseq/results/2-fastpfq/SRX1589834_chr7_report.fastp.html --json rnaseq/results/2-fastpfq/SRX1589834_chr7_report.fastp.json --thread 3 \n",
      "fastp v0.23.1, time used: 19 seconds\n",
      "Traitement de SRX1589839_chr7...\n",
      "Detecting adapter sequence for read1...\n",
      "No adapter detected for read1\n",
      "\n",
      "Detecting adapter sequence for read2...\n",
      "GGATTTAGCTCAGTGGTAGAGCGCTTGCCTAGCAAGCGCAAGGCCCTGGGTTCGGTCCT\n",
      "\n",
      "Read1 before filtering:\n",
      "total reads: 1659848\n",
      "total bases: 80595773\n",
      "Q20 bases: 80094262(99.3777%)\n",
      "Q30 bases: 77438639(96.0828%)\n",
      "\n",
      "Read2 before filtering:\n",
      "total reads: 1659848\n",
      "total bases: 79427324\n",
      "Q20 bases: 78665017(99.0402%)\n",
      "Q30 bases: 75302511(94.8068%)\n",
      "\n",
      "Read1 after filtering:\n",
      "total reads: 1628161\n",
      "total bases: 79065431\n",
      "Q20 bases: 78571308(99.375%)\n",
      "Q30 bases: 75959565(96.0718%)\n",
      "\n",
      "Read2 after filtering:\n",
      "total reads: 1628161\n",
      "total bases: 77849566\n",
      "Q20 bases: 77099783(99.0369%)\n",
      "Q30 bases: 73797420(94.7949%)\n",
      "\n",
      "Filtering result:\n",
      "reads passed filter: 3309960\n",
      "reads failed due to low quality: 0\n",
      "reads failed due to too many N: 0\n",
      "reads failed due to too short: 9736\n",
      "reads with adapter trimmed: 6989\n",
      "bases trimmed due to adapters: 270233\n",
      "\n",
      "Duplication rate: 1.79745%\n",
      "\n",
      "Insert size peak (evaluated by paired-end reads): 50\n",
      "\n",
      "JSON report: rnaseq/results/2-fastpfq/SRX1589839_chr7_report.fastp.json\n",
      "HTML report: rnaseq/results/2-fastpfq/SRX1589839_chr7_report.fastp.html\n",
      "\n",
      "fastp -i /srv/data/meg-m1-a2b/blumenthal-2014/chr7/1-fastq/SRX1589839_chr7_R1.fastq.gz -I /srv/data/meg-m1-a2b/blumenthal-2014/chr7/1-fastq/SRX1589839_chr7_R2.fastq.gz -o rnaseq/results/2-fastpfq/SRX1589839_chr7_R1_fastp.fastq.gz -O rnaseq/results/2-fastpfq/SRX1589839_chr7_R2_fastp.fastq.gz --detect_adapter_for_pe --dedup --dup_calc_accuracy 3 -p -P 500 --html rnaseq/results/2-fastpfq/SRX1589839_chr7_report.fastp.html --json rnaseq/results/2-fastpfq/SRX1589839_chr7_report.fastp.json --thread 3 \n",
      "fastp v0.23.1, time used: 18 seconds\n"
     ]
    }
   ],
   "source": [
    "# (Cellule 5) : Traiter tous les échantillons avec fastp\n",
    "\n",
    "for sample in /srv/data/meg-m1-a2b/blumenthal-2014/chr7/1-fastq/*_R1.fastq.gz; do\n",
    "    base=$(basename $sample _R1.fastq.gz)\n",
    "    echo \"Traitement de $base...\"\n",
    "    fastp \\\n",
    "        -i ${sample} \\\n",
    "        -I ${sample%_R1.fastq.gz}_R2.fastq.gz \\\n",
    "        -o rnaseq/results/2-fastpfq/${base}_R1_fastp.fastq.gz \\\n",
    "        -O rnaseq/results/2-fastpfq/${base}_R2_fastp.fastq.gz \\\n",
    "        --detect_adapter_for_pe \\\n",
    "        --dedup \\\n",
    "        --dup_calc_accuracy 3 \\\n",
    "        -p -P 500 \\\n",
    "        --html rnaseq/results/2-fastpfq/${base}_report.fastp.html \\\n",
    "        --json rnaseq/results/2-fastpfq/${base}_report.fastp.json \\\n",
    "        --thread 3\n",
    "done"
   ]
  },
  {
   "cell_type": "markdown",
   "id": "22747789",
   "metadata": {},
   "source": [
    "## 4. Contrôle Qualité Post-traitement\n",
    "\n",
    "<div class=\"alert alert-info\">\n",
    "Nous exécuterons FastQC sur les reads nettoyés et générerons un rapport MultiQC combinant toutes les métriques de qualité.\n",
    "</div>"
   ]
  },
  {
   "cell_type": "code",
   "execution_count": 17,
   "id": "d2a44ed8",
   "metadata": {},
   "outputs": [
    {
     "name": "stdout",
     "output_type": "stream",
     "text": [
      "application/gzip\n",
      "application/gzip\n",
      "Started analysis of SRX1589831_chr7_R1_fastp.fastq.gz\n",
      "application/gzip\n",
      "application/gzip\n",
      "application/gzip\n",
      "application/gzip\n",
      "Started analysis of SRX1589831_chr7_R2_fastp.fastq.gz\n",
      "Approx 5% complete for SRX1589831_chr7_R1_fastp.fastq.gz\n",
      "Started analysis of SRX1589834_chr7_R1_fastp.fastq.gz\n",
      "Approx 5% complete for SRX1589831_chr7_R2_fastp.fastq.gz\n",
      "Approx 10% complete for SRX1589831_chr7_R1_fastp.fastq.gz\n",
      "Started analysis of SRX1589834_chr7_R2_fastp.fastq.gz\n",
      "Approx 5% complete for SRX1589834_chr7_R1_fastp.fastq.gz\n",
      "Approx 10% complete for SRX1589831_chr7_R2_fastp.fastq.gz\n",
      "Started analysis of SRX1589839_chr7_R1_fastp.fastq.gz\n",
      "Approx 15% complete for SRX1589831_chr7_R1_fastp.fastq.gz\n",
      "Approx 5% complete for SRX1589834_chr7_R2_fastp.fastq.gz\n",
      "Approx 10% complete for SRX1589834_chr7_R1_fastp.fastq.gz\n",
      "Approx 15% complete for SRX1589831_chr7_R2_fastp.fastq.gz\n",
      "Started analysis of SRX1589839_chr7_R2_fastp.fastq.gz\n",
      "Approx 5% complete for SRX1589839_chr7_R1_fastp.fastq.gz\n",
      "Approx 20% complete for SRX1589831_chr7_R1_fastp.fastq.gz\n",
      "Approx 10% complete for SRX1589834_chr7_R2_fastp.fastq.gz\n",
      "Approx 5% complete for SRX1589839_chr7_R2_fastp.fastq.gz\n",
      "Approx 15% complete for SRX1589834_chr7_R1_fastp.fastq.gz\n",
      "Approx 20% complete for SRX1589831_chr7_R2_fastp.fastq.gz\n",
      "Approx 25% complete for SRX1589831_chr7_R1_fastp.fastq.gz\n",
      "Approx 10% complete for SRX1589839_chr7_R1_fastp.fastq.gz\n",
      "Approx 10% complete for SRX1589839_chr7_R2_fastp.fastq.gz\n",
      "Approx 15% complete for SRX1589834_chr7_R2_fastp.fastq.gz\n",
      "Approx 30% complete for SRX1589831_chr7_R1_fastp.fastq.gz\n",
      "Approx 15% complete for SRX1589839_chr7_R1_fastp.fastq.gz\n",
      "Approx 25% complete for SRX1589831_chr7_R2_fastp.fastq.gz\n",
      "Approx 20% complete for SRX1589834_chr7_R1_fastp.fastq.gz\n",
      "Approx 15% complete for SRX1589839_chr7_R2_fastp.fastq.gz\n",
      "Approx 20% complete for SRX1589834_chr7_R2_fastp.fastq.gz\n",
      "Approx 35% complete for SRX1589831_chr7_R1_fastp.fastq.gz\n",
      "Approx 20% complete for SRX1589839_chr7_R1_fastp.fastq.gz\n",
      "Approx 30% complete for SRX1589831_chr7_R2_fastp.fastq.gz\n",
      "Approx 20% complete for SRX1589839_chr7_R2_fastp.fastq.gz\n",
      "Approx 25% complete for SRX1589834_chr7_R1_fastp.fastq.gz\n",
      "Approx 40% complete for SRX1589831_chr7_R1_fastp.fastq.gz\n",
      "Approx 25% complete for SRX1589834_chr7_R2_fastp.fastq.gz\n",
      "Approx 25% complete for SRX1589839_chr7_R1_fastp.fastq.gz\n",
      "Approx 25% complete for SRX1589839_chr7_R2_fastp.fastq.gz\n",
      "Approx 35% complete for SRX1589831_chr7_R2_fastp.fastq.gz\n",
      "Approx 45% complete for SRX1589831_chr7_R1_fastp.fastq.gz\n",
      "Approx 30% complete for SRX1589834_chr7_R1_fastp.fastq.gz\n",
      "Approx 30% complete for SRX1589839_chr7_R1_fastp.fastq.gz\n",
      "Approx 30% complete for SRX1589839_chr7_R2_fastp.fastq.gz\n",
      "Approx 30% complete for SRX1589834_chr7_R2_fastp.fastq.gz\n",
      "Approx 40% complete for SRX1589831_chr7_R2_fastp.fastq.gz\n",
      "Approx 35% complete for SRX1589839_chr7_R2_fastp.fastq.gz\n",
      "Approx 50% complete for SRX1589831_chr7_R1_fastp.fastq.gz\n",
      "Approx 35% complete for SRX1589839_chr7_R1_fastp.fastq.gz\n",
      "Approx 35% complete for SRX1589834_chr7_R1_fastp.fastq.gz\n",
      "Approx 35% complete for SRX1589834_chr7_R2_fastp.fastq.gz\n",
      "Approx 45% complete for SRX1589831_chr7_R2_fastp.fastq.gz\n",
      "Approx 40% complete for SRX1589839_chr7_R2_fastp.fastq.gz\n",
      "Approx 55% complete for SRX1589831_chr7_R1_fastp.fastq.gz\n",
      "Approx 40% complete for SRX1589839_chr7_R1_fastp.fastq.gz\n",
      "Approx 40% complete for SRX1589834_chr7_R2_fastp.fastq.gz\n",
      "Approx 45% complete for SRX1589839_chr7_R2_fastp.fastq.gz\n",
      "Approx 40% complete for SRX1589834_chr7_R1_fastp.fastq.gz\n",
      "Approx 50% complete for SRX1589831_chr7_R2_fastp.fastq.gz\n",
      "Approx 60% complete for SRX1589831_chr7_R1_fastp.fastq.gz\n",
      "Approx 45% complete for SRX1589839_chr7_R1_fastp.fastq.gz\n",
      "Approx 45% complete for SRX1589834_chr7_R2_fastp.fastq.gz\n",
      "Approx 50% complete for SRX1589839_chr7_R2_fastp.fastq.gz\n",
      "Approx 65% complete for SRX1589831_chr7_R1_fastp.fastq.gz\n",
      "Approx 50% complete for SRX1589839_chr7_R1_fastp.fastq.gz\n",
      "Approx 55% complete for SRX1589831_chr7_R2_fastp.fastq.gz\n",
      "Approx 45% complete for SRX1589834_chr7_R1_fastp.fastq.gz\n",
      "Approx 55% complete for SRX1589839_chr7_R2_fastp.fastq.gz\n",
      "Approx 50% complete for SRX1589834_chr7_R2_fastp.fastq.gz\n",
      "Approx 55% complete for SRX1589839_chr7_R1_fastp.fastq.gz\n",
      "Approx 70% complete for SRX1589831_chr7_R1_fastp.fastq.gz\n",
      "Approx 60% complete for SRX1589839_chr7_R2_fastp.fastq.gz\n",
      "Approx 60% complete for SRX1589831_chr7_R2_fastp.fastq.gz\n",
      "Approx 55% complete for SRX1589834_chr7_R2_fastp.fastq.gz\n",
      "Approx 50% complete for SRX1589834_chr7_R1_fastp.fastq.gz\n",
      "Approx 75% complete for SRX1589831_chr7_R1_fastp.fastq.gz\n",
      "Approx 60% complete for SRX1589839_chr7_R1_fastp.fastq.gz\n",
      "Approx 65% complete for SRX1589839_chr7_R2_fastp.fastq.gz\n",
      "Approx 65% complete for SRX1589831_chr7_R2_fastp.fastq.gz\n",
      "Approx 60% complete for SRX1589834_chr7_R2_fastp.fastq.gz\n",
      "Approx 80% complete for SRX1589831_chr7_R1_fastp.fastq.gz\n",
      "Approx 55% complete for SRX1589834_chr7_R1_fastp.fastq.gz\n",
      "Approx 65% complete for SRX1589839_chr7_R1_fastp.fastq.gz\n",
      "Approx 70% complete for SRX1589839_chr7_R2_fastp.fastq.gz\n",
      "Approx 70% complete for SRX1589831_chr7_R2_fastp.fastq.gz\n",
      "Approx 85% complete for SRX1589831_chr7_R1_fastp.fastq.gz\n",
      "Approx 65% complete for SRX1589834_chr7_R2_fastp.fastq.gz\n",
      "Approx 70% complete for SRX1589839_chr7_R1_fastp.fastq.gz\n",
      "Approx 75% complete for SRX1589839_chr7_R2_fastp.fastq.gz\n",
      "Approx 60% complete for SRX1589834_chr7_R1_fastp.fastq.gz\n",
      "Approx 75% complete for SRX1589831_chr7_R2_fastp.fastq.gz\n",
      "Approx 90% complete for SRX1589831_chr7_R1_fastp.fastq.gz\n",
      "Approx 75% complete for SRX1589839_chr7_R1_fastp.fastq.gz\n",
      "Approx 70% complete for SRX1589834_chr7_R2_fastp.fastq.gz\n",
      "Approx 80% complete for SRX1589839_chr7_R2_fastp.fastq.gz\n",
      "Approx 80% complete for SRX1589831_chr7_R2_fastp.fastq.gz\n",
      "Approx 65% complete for SRX1589834_chr7_R1_fastp.fastq.gz\n",
      "Approx 95% complete for SRX1589831_chr7_R1_fastp.fastq.gz\n",
      "Approx 80% complete for SRX1589839_chr7_R1_fastp.fastq.gz\n",
      "Approx 85% complete for SRX1589839_chr7_R2_fastp.fastq.gz\n",
      "Approx 75% complete for SRX1589834_chr7_R2_fastp.fastq.gz\n",
      "Analysis complete for SRX1589831_chr7_R1_fastp.fastq.gz\n",
      "Approx 85% complete for SRX1589831_chr7_R2_fastp.fastq.gz\n",
      "Approx 85% complete for SRX1589839_chr7_R1_fastp.fastq.gz\n",
      "Approx 90% complete for SRX1589839_chr7_R2_fastp.fastq.gz\n",
      "Approx 70% complete for SRX1589834_chr7_R1_fastp.fastq.gz\n",
      "Approx 80% complete for SRX1589834_chr7_R2_fastp.fastq.gz\n",
      "Approx 90% complete for SRX1589839_chr7_R1_fastp.fastq.gz\n",
      "Approx 95% complete for SRX1589839_chr7_R2_fastp.fastq.gz\n",
      "Approx 90% complete for SRX1589831_chr7_R2_fastp.fastq.gz\n",
      "Approx 85% complete for SRX1589834_chr7_R2_fastp.fastq.gz\n",
      "Approx 75% complete for SRX1589834_chr7_R1_fastp.fastq.gz\n",
      "Approx 95% complete for SRX1589839_chr7_R1_fastp.fastq.gz\n",
      "Analysis complete for SRX1589839_chr7_R2_fastp.fastq.gz\n",
      "Approx 90% complete for SRX1589834_chr7_R2_fastp.fastq.gz\n",
      "Approx 95% complete for SRX1589831_chr7_R2_fastp.fastq.gz\n",
      "Approx 80% complete for SRX1589834_chr7_R1_fastp.fastq.gz\n",
      "Analysis complete for SRX1589839_chr7_R1_fastp.fastq.gz\n",
      "Approx 95% complete for SRX1589834_chr7_R2_fastp.fastq.gz\n",
      "Approx 85% complete for SRX1589834_chr7_R1_fastp.fastq.gz\n",
      "Analysis complete for SRX1589831_chr7_R2_fastp.fastq.gz\n",
      "Analysis complete for SRX1589834_chr7_R2_fastp.fastq.gz\n",
      "Approx 90% complete for SRX1589834_chr7_R1_fastp.fastq.gz\n",
      "Approx 95% complete for SRX1589834_chr7_R1_fastp.fastq.gz\n",
      "Analysis complete for SRX1589834_chr7_R1_fastp.fastq.gz\n"
     ]
    }
   ],
   "source": [
    "# Cellule 6 : Exécuter FastQC sur les reads nettoyés \n",
    "\n",
    "fastqc -o rnaseq/results/2-fastpfq/ -t 10 \\\n",
    "  $(ls rnaseq/results/2-fastpfq/*_fastp.fastq.gz)"
   ]
  },
  {
   "cell_type": "code",
   "execution_count": 18,
   "id": "1ef3d3ad-497b-4141-adc1-b0a41f6358fb",
   "metadata": {
    "tags": []
   },
   "outputs": [
    {
     "name": "stdout",
     "output_type": "stream",
     "text": [
      "multiqc, version 1.13\n"
     ]
    }
   ],
   "source": [
    "multiqc --version"
   ]
  },
  {
   "cell_type": "code",
   "execution_count": 19,
   "id": "55330f9d",
   "metadata": {},
   "outputs": [
    {
     "name": "stdout",
     "output_type": "stream",
     "text": [
      "\n",
      "  \u001b[34m/\u001b[0m\u001b[32m/\u001b[0m\u001b[31m/\u001b[0m \u001b]8;id=46928;https://multiqc.info\u001b\\\u001b[1mMultiQC\u001b[0m\u001b]8;;\u001b\\ 🔍 \u001b[2m| v1.13\u001b[0m\n",
      "\n",
      "\u001b[34m|           multiqc\u001b[0m | \u001b[33mMultiQC Version v1.31 now available!\u001b[0m\n",
      "\u001b[34m|           multiqc\u001b[0m | Report title: 2-fastqc-fastp\n",
      "\u001b[34m|           multiqc\u001b[0m | Search path : /srv/home/scaburet/meg-m1-ue5-unix2-testmapping/rnaseq/results/1-fastqc\n",
      "\u001b[34m|           multiqc\u001b[0m | Search path : /srv/home/scaburet/meg-m1-ue5-unix2-testmapping/rnaseq/results/2-fastpfq\n",
      "\u001b[2K\u001b[34m|\u001b[0m         \u001b[34msearching\u001b[0m | \u001b[90m━━━━━━━━━━━━━━━━━━━━━━━━━━━━━━━━━━━━━━━━\u001b[0m \u001b[35m100%\u001b[0m \u001b[32m38/38\u001b[0m  \u001b[0m0m  \n",
      "\u001b[?25h\u001b[34m|             fastp\u001b[0m | Found 3 reports\n",
      "\u001b[34m|            fastqc\u001b[0m | Found 12 reports\n",
      "\u001b[34m|           multiqc\u001b[0m | Compressing plot data\n",
      "\u001b[34m|           multiqc\u001b[0m | Report      : rnaseq/results/0-multiqc/2-fastqc-fastp_multiqc_report.html\n",
      "\u001b[34m|           multiqc\u001b[0m | Data        : rnaseq/results/0-multiqc/2-fastqc-fastp_multiqc_report_data\n",
      "\u001b[34m|           multiqc\u001b[0m | MultiQC complete\n"
     ]
    }
   ],
   "source": [
    "# Cellule 7 : Générer un rapport MultiQC pour tous les échantillons\n",
    "\n",
    "multiqc -f -o rnaseq/results/0-multiqc \\\n",
    "    rnaseq/results/1-fastqc/ \\\n",
    "    rnaseq/results/2-fastpfq/ \\\n",
    "    --interactive \\\n",
    "    --title \"2-fastqc-fastp\" \\\n",
    "    --comment \"Rapport MultiQC avant et après nettoyage des reads par fastp\"\n",
    "\n",
    "  "
   ]
  },
  {
   "cell_type": "markdown",
   "id": "41b53138",
   "metadata": {},
   "source": [
    "## 5. Alignement des Reads\n",
    "\n",
    "<div class=\"alert alert-info\">\n",
    "Nous allons aligner les reads nettoyés sur le génome de référence de souris en utilisant STAR. <br>\n",
    "Le fichier d'annotation du génome est situé dans srv/data : <br>\n",
    "<code>/srv/data/Genomes/Mmu/GRCm39/extracted/genome_annotation-M37.gtf</code><br>\n",
    "L'index du génome de référence a déjà été préparé (étape très gourmande en temps de calcul et en puissance) et est disponible là :<br>\n",
    "<code>/srv/data/Genomes/Mmu/GRCm39/indexes_upto49bases/</code> <br>\n",
    "</div>"
   ]
  },
  {
   "cell_type": "code",
   "execution_count": 20,
   "id": "272b1c4d-231b-4e4f-84fa-7dbef58cd3e2",
   "metadata": {
    "tags": []
   },
   "outputs": [
    {
     "name": "stdout",
     "output_type": "stream",
     "text": [
      "##description: evidence-based annotation of the mouse genome (GRCm39), version M37 (Ensembl 114)\n",
      "##provider: GENCODE\n",
      "##contact: gencode-help@ebi.ac.uk\n",
      "##format: gtf\n",
      "##date: 2025-01-19\n",
      "chr1\tHAVANA\tgene\t3143476\t3144545\t.\t+\t.\tgene_id \"ENSMUSG00000102693.2\"; gene_type \"TEC\"; gene_name \"4933401J01Rik\"; level 2; mgi_id \"MGI:1918292\"; havana_gene \"OTTMUSG00000049935.1\";\n",
      "chr1\tHAVANA\ttranscript\t3143476\t3144545\t.\t+\t.\tgene_id \"ENSMUSG00000102693.2\"; transcript_id \"ENSMUST00000193812.2\"; gene_type \"TEC\"; gene_name \"4933401J01Rik\"; transcript_type \"TEC\"; transcript_name \"4933401J01Rik-201\"; level 2; transcript_support_level \"NA\"; mgi_id \"MGI:1918292\"; tag \"basic\"; tag \"Ensembl_canonical\"; tag \"GENCODE_Primary\"; havana_gene \"OTTMUSG00000049935.1\"; havana_transcript \"OTTMUST00000127109.1\";\n"
     ]
    }
   ],
   "source": [
    "head -n 7 /srv/data/Genomes/Mmu/GRCm39/extracted/genome_annotation-M37.gtf"
   ]
  },
  {
   "cell_type": "code",
   "execution_count": 21,
   "id": "bfad6abb-1338-4275-b48a-5b9ad2646718",
   "metadata": {
    "tags": []
   },
   "outputs": [
    {
     "name": "stdout",
     "output_type": "stream",
     "text": [
      "Usage: STAR  [options]... --genomeDir /path/to/genome/index/   --readFilesIn R1.fq R2.fq\n",
      "Spliced Transcripts Alignment to a Reference (c) Alexander Dobin, 2009-2022\n",
      "\n",
      "STAR version=2.7.11a\n",
      "STAR compilation time,server,dir=2023-09-15T02:58:53+0000 :/opt/conda/conda-bld/star_1694746407721/work/source\n",
      "For more details see:\n",
      "<https://github.com/alexdobin/STAR>\n",
      "<https://github.com/alexdobin/STAR/blob/master/doc/STARmanual.pdf>\n",
      "\n",
      "To list all parameters, run STAR --help\n"
     ]
    }
   ],
   "source": [
    "STAR"
   ]
  },
  {
   "cell_type": "code",
   "execution_count": 1,
   "id": "f573c304",
   "metadata": {},
   "outputs": [
    {
     "name": "stdout",
     "output_type": "stream",
     "text": [
      "Alignement de SRX1589831_chr7...\n",
      "\t/srv/conda/envs/notebook/bin/STAR-avx2 --genomeDir /srv/data/Genomes/Mmu/GRCm39/indexes_upto49bases/ --readFilesIn rnaseq/results/2-fastpfq/SRX1589831_chr7_R1_fastp.fastq.gz rnaseq/results/2-fastpfq/SRX1589831_chr7_R2_fastp.fastq.gz --readFilesCommand zcat --outFileNamePrefix rnaseq/results/3-bam/SRX1589831_chr7_ --outSAMtype BAM SortedByCoordinate --runThreadN 5\n",
      "\tSTAR version: 2.7.11a   compiled: 2023-09-15T02:58:53+0000 :/opt/conda/conda-bld/star_1694746407721/work/source\n",
      "Sep 11 18:15:45 ..... started STAR run\n",
      "Sep 11 18:15:45 ..... loading genome\n",
      "/srv/conda/envs/notebook/bin/STAR: line 8:  1029 Killed                  \"${cmd}\" \"$@\"\n"
     ]
    },
    {
     "ename": "",
     "evalue": "137",
     "output_type": "error",
     "traceback": []
    }
   ],
   "source": [
    "# Cellule 8 : Aligner les reads pour le premier échantillon\n",
    "\n",
    "echo \"Alignement de SRX1589831_chr7...\"\n",
    "STAR --genomeDir /srv/data/Genomes/Mmu/GRCm39/indexes_upto49bases/ \\\n",
    "     --readFilesIn rnaseq/results/2-fastpfq/SRX1589831_chr7_R1_fastp.fastq.gz rnaseq/results/2-fastpfq/SRX1589831_chr7_R2_fastp.fastq.gz \\\n",
    "     --readFilesCommand zcat \\\n",
    "     --outFileNamePrefix rnaseq/results/3-bam/SRX1589831_chr7_ \\\n",
    "     --outSAMtype BAM SortedByCoordinate \\\n",
    "     --runThreadN 5\n"
   ]
  },
  {
   "cell_type": "code",
   "execution_count": 2,
   "id": "bca3b5bf-731a-4795-b709-8cf6dfa4fb3e",
   "metadata": {},
   "outputs": [
    {
     "name": "stdout",
     "output_type": "stream",
     "text": [
      "Alignement de SRX1589831_chr7...\n",
      "\t/srv/conda/envs/notebook/bin/STAR-avx2 --genomeDir new/indexchr7_upto49bases/ --readFilesIn rnaseq/results/2-fastpfq/SRX1589831_chr7_R1_fastp.fastq.gz rnaseq/results/2-fastpfq/SRX1589831_chr7_R2_fastp.fastq.gz --readFilesCommand zcat --outFileNamePrefix rnaseq/results/3-bam/SRX1589831_chr7_ --outSAMtype BAM SortedByCoordinate --runThreadN 5\n",
      "\tSTAR version: 2.7.11a   compiled: 2023-09-15T02:58:53+0000 :/opt/conda/conda-bld/star_1694746407721/work/source\n",
      "Sep 11 19:29:52 ..... started STAR run\n",
      "Sep 11 19:29:52 ..... loading genome\n",
      "Sep 11 19:29:53 ..... started mapping\n",
      "Sep 11 19:32:39 ..... finished mapping\n",
      "Sep 11 19:32:39 ..... started sorting BAM\n",
      "Sep 11 19:32:40 ..... finished successfully\n"
     ]
    }
   ],
   "source": [
    "# Cellule 8 : Aligner les reads pour le premier échantillon\n",
    "\n",
    "echo \"Alignement de SRX1589831_chr7...\"\n",
    "STAR --genomeDir new/indexchr7_upto49bases/ \\\n",
    "     --readFilesIn rnaseq/results/2-fastpfq/SRX1589831_chr7_R1_fastp.fastq.gz rnaseq/results/2-fastpfq/SRX1589831_chr7_R2_fastp.fastq.gz \\\n",
    "     --readFilesCommand zcat \\\n",
    "     --outFileNamePrefix rnaseq/results/3-bam/SRX1589831_chr7_ \\\n",
    "     --outSAMtype BAM SortedByCoordinate \\\n",
    "     --runThreadN 5\n"
   ]
  },
  {
   "cell_type": "markdown",
   "id": "a036e761-25c1-40c5-b82a-927dfb920177",
   "metadata": {},
   "source": [
    "la cellule précédente fonctionne dans un env 6 coeurs + 15 GB RAM (--runThreadN 5)   \n",
    "Alignement de SRX1589831_chr7...  \n",
    "Sep 11 19:29:52 ..... started STAR run  \n",
    "Sep 11 19:32:40 ..... finished successfully\n",
    "< 3 mn pour 1 échantillon \n",
    "\n",
    "Essai en dessous pour les 3, env 6 coeurs + 15 GB RAM (--runThreadN 5)   \n",
    "\n",
    "Alignement de SRX1589831_chr7...  \n",
    "Sep 12 08:44:31 ..... started STAR run   \n",
    "Sep 12 08:47:23 ..... finished successfully   \n",
    "Alignement de SRX1589834_chr7...   \n",
    "Sep 12 08:47:24 ..... started STAR run   \n",
    "Sep 12 08:50:11 ..... finished successfully   \n",
    "Alignement de SRX1589839_chr7...  \n",
    "Sep 12 08:50:11 ..... started STAR run   \n",
    "Sep 12 08:52:59 ..... finished successfully\n",
    "\n",
    "Donc un peu moins de 9 mn pour les 3, ça roule\n",
    "\n",
    "Je relance avec un env de 5 coeurs et 12 GB RAM (--runThreadN 4)   \n",
    "Alignement de SRX1589831_chr7...  \n",
    "Sep 12 08:59:32 ..... started STAR run   \n",
    "Sep 12 09:02:25 ..... finished successfully   \n",
    "Alignement de SRX1589834_chr7...   \n",
    "Sep 12 09:02:25 ..... started STAR run   \n",
    "Sep 12 09:05:21 ..... finished successfully   \n",
    "Alignement de SRX1589839_chr7...   \n",
    "Sep 12 09:05:21 ..... started STAR run   \n",
    "Sep 12 09:08:09 ..... finished successfully  \n",
    "\n",
    "Idem en timing, ok. \n",
    "\n",
    "Je relance avec un env de 5 coeurs et 10 GB RAM (--runThreadN 4) \n",
    "Alignement de SRX1589831_chr7...  \n",
    "Sep 12 09:10:38 ..... started STAR run   \n",
    "Sep 12 09:13:35 ..... finished successfully  \n",
    "Alignement de SRX1589834_chr7...   \n",
    "Sep 12 09:13:36 ..... started STAR run   \n",
    "Sep 12 09:16:30 ..... finished successfully  \n",
    "Alignement de SRX1589839_chr7...   \n",
    "Sep 12 09:16:30 ..... started STAR run  \n",
    "Sep 12 09:19:21 ..... finished successfully  \n",
    "\n",
    "Idem en timing, ok. \n",
    "\n",
    "Je relance avec un env de 4 coeurs et 8 GB RAM (--runThreadN 3)  \n",
    "Alignement de SRX1589831_chr7...  \n",
    "Sep 12 09:25:13 ..... started STAR run  \n",
    "Sep 12 09:29:25 ..... finished successfully  \n",
    "Alignement de SRX1589834_chr7...  \n",
    "Sep 12 09:29:25 ..... started STAR run    \n",
    "Sep 12 09:34:08 ..... finished successfully  \n",
    "Alignement de SRX1589839_chr7...  \n",
    "Sep 12 09:34:08 ..... started STAR run  \n",
    "Sep 12 09:37:35 ..... finished successfully\n",
    "Timing un peu plus long : 12 mn pour les 3 échantillons\n",
    " donc on peut rester sur le 5 coeurs + 8 GB de RAM\n"
   ]
  },
  {
   "cell_type": "code",
   "execution_count": 1,
   "id": "ff171150-eae2-44b9-bc7f-b3e95442936c",
   "metadata": {
    "tags": []
   },
   "outputs": [
    {
     "name": "stdout",
     "output_type": "stream",
     "text": [
      "Alignement de SRX1589831_chr7...\n",
      "\t/srv/conda/envs/notebook/bin/STAR-avx2 --genomeDir new/indexchr7_upto49bases/ --readFilesIn rnaseq/results/2-fastpfq/SRX1589831_chr7_R1_fastp.fastq.gz rnaseq/results/2-fastpfq/SRX1589831_chr7_R2_fastp.fastq.gz --readFilesCommand zcat --outFileNamePrefix rnaseq/results/3-bam/SRX1589831_chr7_ --outSAMtype BAM SortedByCoordinate --runThreadN 3\n",
      "\tSTAR version: 2.7.11a   compiled: 2023-09-15T02:58:53+0000 :/opt/conda/conda-bld/star_1694746407721/work/source\n",
      "Sep 12 09:25:13 ..... started STAR run\n",
      "Sep 12 09:25:13 ..... loading genome\n",
      "Sep 12 09:25:14 ..... started mapping\n",
      "Sep 12 09:29:23 ..... finished mapping\n",
      "Sep 12 09:29:24 ..... started sorting BAM\n",
      "Sep 12 09:29:25 ..... finished successfully\n",
      "Alignement de SRX1589834_chr7...\n",
      "\t/srv/conda/envs/notebook/bin/STAR-avx2 --genomeDir new/indexchr7_upto49bases/ --readFilesIn rnaseq/results/2-fastpfq/SRX1589834_chr7_R1_fastp.fastq.gz rnaseq/results/2-fastpfq/SRX1589834_chr7_R2_fastp.fastq.gz --readFilesCommand zcat --outFileNamePrefix rnaseq/results/3-bam/SRX1589834_chr7_ --outSAMtype BAM SortedByCoordinate --runThreadN 3\n",
      "\tSTAR version: 2.7.11a   compiled: 2023-09-15T02:58:53+0000 :/opt/conda/conda-bld/star_1694746407721/work/source\n",
      "Sep 12 09:29:25 ..... started STAR run\n",
      "Sep 12 09:29:26 ..... loading genome\n",
      "Sep 12 09:29:27 ..... started mapping\n",
      "Sep 12 09:34:06 ..... finished mapping\n",
      "Sep 12 09:34:06 ..... started sorting BAM\n",
      "Sep 12 09:34:08 ..... finished successfully\n",
      "Alignement de SRX1589839_chr7...\n",
      "\t/srv/conda/envs/notebook/bin/STAR-avx2 --genomeDir new/indexchr7_upto49bases/ --readFilesIn rnaseq/results/2-fastpfq/SRX1589839_chr7_R1_fastp.fastq.gz rnaseq/results/2-fastpfq/SRX1589839_chr7_R2_fastp.fastq.gz --readFilesCommand zcat --outFileNamePrefix rnaseq/results/3-bam/SRX1589839_chr7_ --outSAMtype BAM SortedByCoordinate --runThreadN 3\n",
      "\tSTAR version: 2.7.11a   compiled: 2023-09-15T02:58:53+0000 :/opt/conda/conda-bld/star_1694746407721/work/source\n",
      "Sep 12 09:34:08 ..... started STAR run\n",
      "Sep 12 09:34:08 ..... loading genome\n",
      "Sep 12 09:34:09 ..... started mapping\n",
      "Sep 12 09:37:34 ..... finished mapping\n",
      "Sep 12 09:37:34 ..... started sorting BAM\n",
      "Sep 12 09:37:35 ..... finished successfully\n"
     ]
    }
   ],
   "source": [
    "# (Cellule 9) : Commande pour aligner tous les échantillons\n",
    "\n",
    "for sample in rnaseq/results/2-fastpfq/*_R1_fastp.fastq.gz; do\n",
    "    base=$(basename $sample _R1_fastp.fastq.gz)\n",
    "    echo \"Alignement de $base...\"\n",
    "    STAR --genomeDir new/indexchr7_upto49bases/ \\\n",
    "         --readFilesIn ${sample} ${sample%_R1_fastp.fastq.gz}_R2_fastp.fastq.gz \\\n",
    "         --readFilesCommand zcat \\\n",
    "         --outFileNamePrefix rnaseq/results/3-bam/${base}_ \\\n",
    "         --outSAMtype BAM SortedByCoordinate \\\n",
    "         --runThreadN 3\n",
    "done"
   ]
  },
  {
   "cell_type": "code",
   "execution_count": 8,
   "id": "e677d0fe-29d3-47c9-b5a7-a79d76424a0e",
   "metadata": {
    "tags": []
   },
   "outputs": [
    {
     "name": "stdout",
     "output_type": "stream",
     "text": [
      "/srv/home/scaburet/meg-m1-ue5-unix2-testmapping\n",
      "total 438M\n",
      "-rw-rw-r-- 1 scaburet scaburet 148M Sep 12 09:29 SRX1589831_chr7_Aligned.sortedByCoord.out.bam\n",
      "-rw-rw-r-- 1 scaburet scaburet 2.0K Sep 12 09:29 SRX1589831_chr7_Log.final.out\n",
      "-rw-rw-r-- 1 scaburet scaburet 6.8K Sep 12 09:29 SRX1589831_chr7_Log.out\n",
      "-rw-rw-r-- 1 scaburet scaburet  482 Sep 12 09:29 SRX1589831_chr7_Log.progress.out\n",
      "-rw-rw-r-- 1 scaburet scaburet 452K Sep 12 09:29 SRX1589831_chr7_SJ.out.tab\n",
      "-rw-rw-r-- 1 scaburet scaburet 163M Sep 12 09:34 SRX1589834_chr7_Aligned.sortedByCoord.out.bam\n",
      "-rw-rw-r-- 1 scaburet scaburet 2.0K Sep 12 09:34 SRX1589834_chr7_Log.final.out\n",
      "-rw-rw-r-- 1 scaburet scaburet 6.8K Sep 12 09:34 SRX1589834_chr7_Log.out\n",
      "-rw-rw-r-- 1 scaburet scaburet  600 Sep 12 09:34 SRX1589834_chr7_Log.progress.out\n",
      "-rw-rw-r-- 1 scaburet scaburet 478K Sep 12 09:34 SRX1589834_chr7_SJ.out.tab\n",
      "-rw-rw-r-- 1 scaburet scaburet 126M Sep 12 09:37 SRX1589839_chr7_Aligned.sortedByCoord.out.bam\n",
      "-rw-rw-r-- 1 scaburet scaburet 2.0K Sep 12 09:37 SRX1589839_chr7_Log.final.out\n",
      "-rw-rw-r-- 1 scaburet scaburet 6.8K Sep 12 09:37 SRX1589839_chr7_Log.out\n",
      "-rw-rw-r-- 1 scaburet scaburet  482 Sep 12 09:37 SRX1589839_chr7_Log.progress.out\n",
      "-rw-rw-r-- 1 scaburet scaburet 433K Sep 12 09:37 SRX1589839_chr7_SJ.out.tab\n"
     ]
    }
   ],
   "source": [
    "cd /srv/home/scaburet/meg-m1-ue5-unix2-testmapping/\n",
    "pwd\n",
    "\n",
    "ls -lh rnaseq/results/3-bam/"
   ]
  },
  {
   "cell_type": "code",
   "execution_count": 9,
   "id": "eb9ebe05",
   "metadata": {},
   "outputs": [
    {
     "name": "stdout",
     "output_type": "stream",
     "text": [
      "Indexation de SRX1589831_chr7_Aligned.sortedByCoord.out.bam...\n",
      "Indexation de SRX1589834_chr7_Aligned.sortedByCoord.out.bam...\n",
      "Indexation de SRX1589839_chr7_Aligned.sortedByCoord.out.bam...\n"
     ]
    }
   ],
   "source": [
    "# Cellule 10 : Indexer les fichiers BAM\n",
    "\n",
    "for bam in rnaseq/results/3-bam/*_Aligned.sortedByCoord.out.bam; do\n",
    "    echo \"Indexation de $(basename $bam)...\"\n",
    "    samtools index -@ 3 $bam\n",
    "done"
   ]
  },
  {
   "cell_type": "markdown",
   "id": "summary_section",
   "metadata": {},
   "source": [
    "## 6. Résumé et Étapes Suivantes\n",
    "\n",
    "<div class=\"alert alert-success\">\n",
    "<b>Étapes Complétées :</b><br>\n",
    "✓ Contrôle qualité des données brutes<br>\n",
    "✓ Prétraitement et nettoyage des reads<br>\n",
    "✓ Contrôle qualité post-traitement<br>\n",
    "✓ Alignement des reads sur le génome de référence<br>\n",
    "✓ Indexation des fichiers BAM\n",
    "</div>\n",
    "\n",
    "<div class=\"alert alert-info\">\n",
    "<b>Fichiers de Sortie Générés :</b><br>\n",
    "- Rapports de qualité : <code>./rnaseq/results/1-fastqc/</code><br>\n",
    "- Reads nettoyés : <code>./rnaseq/results/2-fastpfq/</code><br>\n",
    "- Rapport MultiQC : <code>./rnaseq/results/0-multiqc/</code><br>\n",
    "- Alignements bam et index bai : <code>./rnaseq/results/3-bam/</code>\n",
    "</div>\n",
    "\n",
    "<div class=\"alert alert-warning\">\n",
    "<b>Prochaines Étapes :</b><br>\n",
    "Les fichiers BAM générés peuvent maintenant être utilisés pour :<br>\n",
    "- Le comptage des reads par gène (featureCounts, HTSeq)<br>\n",
    "- L'analyse d'expression différentielle (DESeq2, edgeR)<br>\n",
    "- La visualisation des alignements (IGV, UCSC Genome Browser)\n",
    "</div>"
   ]
  },
  {
   "cell_type": "code",
   "execution_count": null,
   "id": "76537d66-6f07-42af-b3f4-42c17e94df96",
   "metadata": {},
   "outputs": [],
   "source": []
  }
 ],
 "metadata": {
  "kernelspec": {
   "display_name": "Bash",
   "language": "bash",
   "name": "bash"
  },
  "language_info": {
   "codemirror_mode": "shell",
   "file_extension": ".sh",
   "mimetype": "text/x-sh",
   "name": "bash"
  }
 },
 "nbformat": 4,
 "nbformat_minor": 5
}
