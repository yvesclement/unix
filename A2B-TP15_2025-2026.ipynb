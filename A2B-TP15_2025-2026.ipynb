{
 "cells": [
  {
   "cell_type": "markdown",
   "id": "e4007bbe",
   "metadata": {},
   "source": [
    "# M1 MEG - UE 5 A2B - TP15\n",
    "## Tidyverse & ggplot2\n",
    "\n",
    "L'objectif de ce TP est de vous familiariser avec le `tidyverse` notamment la librairie graphique `ggplot2` : \n",
    "- Comprendre la syntaxe\n",
    "- Utiliser certaines fonctions de base\n",
    "- Faire des graphiques\n",
    "\n",
    "**Quelques rappels** : \n",
    "- Un ordinateur / serveur de calcul est complètement stupide : il fera *exactement* ce que vous avez demandé de faire (ni plus ni moins).\n",
    "- 99% des problèmes en informatique sont situés entre l'écran et la chaise.\n",
    "\n",
    "**Mode de fonctionnement:**\n",
    "- Pour chaque exercice, uniquement le nom des fonctions à utiliser vous sera donné.\n",
    "- À vous d'aller chercher comment les utiliser\n",
    "- N'hésitez pas à vous entraider (\"*Google friends* / *Google office*\")\n",
    "\n",
    "**Emplacements des données :**\n",
    "- Les données sont directement disponibles dand R. Il s'agit du jeu de données `mpg` (*Fuel economy data from 1999 to 2008 for 38 popular models of cars*), livré avec la librairie `ggplot2`, qui contient des données de consommation d'essence pour un certain nombre de modèles de voiture. Il est souvent utilisé comme jeu d'entrainement.\n",
    "\n",
    "En affichant un simple `help(mpg)`, vous pouvez accéder à une description du jeu de données et des variables qu'il contient (très utile).\n",
    "\n",
    "**Configuration de l'environnement**\n",
    "Les librairies requises sont pré-installés dans l'environnement `megm1_ue5_r` dans lequel vous êtes :\n",
    "- tidyverse\n",
    "\n",
    "**Derniers rappels sur R**\n",
    "- N'oubliez pas de sauvegarder le résultats des commandes que vous allez executer dans des nouvelles variables, afin de garder trace de ce que vous faites.\n",
    "- N'oubliez pas de donner un nom explicite à vos variables.\n"
   ]
  },
  {
   "cell_type": "markdown",
   "id": "b4a7bf02",
   "metadata": {},
   "source": [
    "## 1. Préparation\n",
    "\n",
    "Créez un dossier spécifique pour ce TP (le nom est libre), déplacez le notebook et lancez-le."
   ]
  },
  {
   "cell_type": "code",
   "execution_count": null,
   "id": "175ed28a",
   "metadata": {
    "vscode": {
     "languageId": "r"
    }
   },
   "outputs": [],
   "source": [
    "# Cellule 1\n",
    "# Chargement de la librairie\n",
    "\n",
    "# Chargement des données\n",
    "data(mpg)"
   ]
  },
  {
   "cell_type": "markdown",
   "id": "53facf8d",
   "metadata": {},
   "source": [
    "## 2. Exploration rapide\n",
    "\n",
    "Comptez le nombre de variables et d'observations que contient ce jeux de données (`ncol`, `nrow`).\n",
    "\n",
    "Afficher le jeu de données dans la console.\n",
    "\n",
    "Transformez le `data.frame` en `tibble` (`as_tibble`), puis affichez le jeu de données dans la console. Notez les différences avec l'étape précédente."
   ]
  },
  {
   "cell_type": "code",
   "execution_count": null,
   "id": "ba0bcde3",
   "metadata": {
    "vscode": {
     "languageId": "r"
    }
   },
   "outputs": [],
   "source": [
    "# Cellule 2\n",
    "\n",
    "# À vous de jouer"
   ]
  },
  {
   "cell_type": "markdown",
   "id": "45018549",
   "metadata": {},
   "source": [
    "## 3. Faire un résumé des données\n",
    "\n",
    "Affichez un résumé du jeu de données (`summary`).\n",
    "\n",
    "Affichez (`summarize`, `distinct`) :\n",
    "- le nombre de fabricants différents\n",
    "- le nombre de modèles différents\n",
    "- le nombre minimum **et** maximum de *city miles per gallon* (miles par gallon en ville, autonomie en ville)\n",
    "- le nombre minimum **et** maximum de *highway miles per gallon* (miles par gallon sur autoroute, autonomie sur autoroute)\n",
    "- les configurations moteur/roues motrices différentes\n"
   ]
  },
  {
   "cell_type": "code",
   "execution_count": null,
   "id": "e47a1231",
   "metadata": {
    "vscode": {
     "languageId": "r"
    }
   },
   "outputs": [],
   "source": [
    "# Cellule 3\n",
    "\n",
    "# À vous de jouer"
   ]
  },
  {
   "cell_type": "markdown",
   "id": "fa68db68",
   "metadata": {},
   "source": [
    "## 4. Filtrer les données\n",
    "\n",
    "Créez un tibble (`select`, `filter`, `arrange`):\n",
    "- contenant *uniquement* les colonnes correspondant au fabricant, modèle, classe, autonomie en ville, autonomie sur autoroute, cylindrée (*engine displacement*), configuration moteur\n",
    "- contenant *uniquement* les voitures de type *SUV* et à l'autonomie sur autouroute supérieure à 25 *miles per gallon*\n",
    "- trié par ordre décroissant d'autonomie sur autoroute\n",
    "\n",
    "Créez un tibble (`mutate`) : \n",
    "- contenant une nouvelle variable contenant l'autonomie *moyenne* (ville et autoroute)"
   ]
  },
  {
   "cell_type": "code",
   "execution_count": null,
   "id": "b1363974",
   "metadata": {
    "vscode": {
     "languageId": "r"
    }
   },
   "outputs": [],
   "source": [
    "# Cellule 4\n",
    "\n",
    "# À vous de jouer"
   ]
  },
  {
   "cell_type": "markdown",
   "id": "767e5e53",
   "metadata": {},
   "source": [
    "## 5. Grouper les données\n",
    "\n",
    "Grouper les données par classe de voiture et afficher (`group_by`, `arrange`):\n",
    "- l'autonomie moyenne par classe\n",
    "- trié par ordre décroissant"
   ]
  },
  {
   "cell_type": "code",
   "execution_count": null,
   "id": "26e57be5",
   "metadata": {
    "vscode": {
     "languageId": "r"
    }
   },
   "outputs": [],
   "source": [
    "# Cellule 5\n",
    "\n",
    "# À vous de jouer"
   ]
  },
  {
   "cell_type": "markdown",
   "id": "946cbafc",
   "metadata": {},
   "source": [
    "## 6. `pivot_long`\n",
    "\n",
    "À l'aide de la fonction `pivot_long`, créez un nouveau `tibble` contenant :\n",
    "- le fabricant, le modèle, la classe, l'autonomie en ville et l'autonomie sur autoroute\n",
    "- les deux autonomies devront être dans la même colonne, tandis que le type d'autonomie devra également être indiqué sur une colonne"
   ]
  },
  {
   "cell_type": "code",
   "execution_count": null,
   "id": "8185c65f",
   "metadata": {
    "vscode": {
     "languageId": "r"
    }
   },
   "outputs": [],
   "source": [
    "# Cellule 6\n",
    "\n",
    "# À vous de jouer"
   ]
  },
  {
   "cell_type": "markdown",
   "id": "b75dc7cd",
   "metadata": {},
   "source": [
    "## 7. Graphiques\n",
    "\n",
    "Faire les graphiques suivants :\n",
    "\n",
    "1. Nuage de points représentant l'autonomie sur autoroute en fonction de la cylindrée, avec une couleur différente par classe de véhicule et une régression linéaire\n",
    "2. Boxplot de l'autonomie en ville en fonction de la cylindrée, avec une couleur différente par classe de véhicule\n",
    "3. Nuage de points représentant l'autonomie sur autoroute en fonction de la cylindrée, avec une couleur différente par classe et un sous-graphique / panneau / *facet* par configuration moteur / roues motrices ()"
   ]
  },
  {
   "cell_type": "code",
   "execution_count": null,
   "id": "0583c91f",
   "metadata": {
    "vscode": {
     "languageId": "r"
    }
   },
   "outputs": [],
   "source": [
    "# Cellule 7\n",
    "\n",
    "# À vous de jouer"
   ]
  },
  {
   "cell_type": "markdown",
   "id": "330a94e2",
   "metadata": {},
   "source": []
  }
 ],
 "metadata": {
  "language_info": {
   "name": "python"
  }
 },
 "nbformat": 4,
 "nbformat_minor": 5
}
